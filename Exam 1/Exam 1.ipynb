{
 "cells": [
  {
   "cell_type": "markdown",
   "id": "3754af85-741d-405a-8357-f8def944ca5e",
   "metadata": {},
   "source": [
    "## Exam 1\n",
    "\n",
    "#### Author: Dylan Andrews\n",
    "\n",
    "#### Special Thanks: Jackson, Madden, Lizbeth"
   ]
  },
  {
   "cell_type": "code",
   "execution_count": 6,
   "id": "9339d5e7-ec9b-4cb6-9123-f8cdb5f835df",
   "metadata": {},
   "outputs": [],
   "source": [
    "# Package Imports - copy and paste\n",
    "import numpy as np\n",
    "import pandas as pd\n",
    "\n",
    "import matplotlib.pyplot as plt\n",
    "import plotly.express as px\n",
    "from plotly.subplots import make_subplots\n",
    "import plotly.io as pio\n",
    "pio.renderers.defaule = 'colab'\n",
    "\n",
    "from itables import show"
   ]
  },
  {
   "cell_type": "code",
   "execution_count": 7,
   "id": "048e0b87-f6ef-4e1c-9946-561716cc8e41",
   "metadata": {},
   "outputs": [],
   "source": [
    "# Load the data - copy and paste\n",
    "file_location = 'https://joannabieri.com/introdatascience/data/lego_sample.csv'\n",
    "DF = pd.read_csv(file_location)"
   ]
  },
  {
   "cell_type": "markdown",
   "id": "30ecf5b6-1be7-4f0a-810a-c0cb5d451720",
   "metadata": {},
   "source": [
    "## Problem 1\n",
    "###### (a) How many variables and observations are in the data set?\n",
    "###### Answer: There are 75 observations, and 14 variables.\n",
    "###### (b) What are the names of all the variables?\n",
    "###### Answer:['item_number', 'set_name', 'theme', 'pieces', 'price', 'amazon_price', 'year', 'ages', 'pages', 'minifigures', 'packaging', 'weight', 'unique_pieces', 'size']\n",
    "###### (c) For each variable, talk about whether you think that variable is Numerical or Categorical and what type of data it is.\n",
    "###### Answer: \"item_number\" is ordinal categorical, \"set_name\" is nominal categorial, \"theme\" is nominal categorical, \"pieces\" is discrete numerical, \"price\" is continuous numerical, \"amazon_price\" is continous numerical, \"year\" is ordinal categorial, \"ages\" is discrete numerical, \"pages\" is discrete numerical, \"minifigures\" is discrete numerical, \"packaging\" is nominal categorical, \"weight\" is continous numerical, \"unique_pieces\" is discrete numerical, and \"size\" is ordinal categorical.\n",
    "###### (d) Use describe to get some basic statistics about the numerical data. Comment on at least four things that you learned by looking at these statistics.\n",
    "###### Answer: The Lego set with the most pages has 389 pages in it. The Cheapest Lego set is $4.99. The Lego set with the most minifigures has 15 minifigures in it. The set with the most pieces has 897 pieces in it."
   ]
  },
  {
   "cell_type": "code",
   "execution_count": 8,
   "id": "84c39be3-994d-4272-8e1c-7c54b51ed16c",
   "metadata": {},
   "outputs": [
    {
     "name": "stdout",
     "output_type": "stream",
     "text": [
      "Number of observations (rows): 75\n",
      "Number of variables (columns): 14\n"
     ]
    }
   ],
   "source": [
    "#Code for question 1 (a)\n",
    "num_observations = DF.shape[0]\n",
    "print(\"Number of observations (rows):\", num_observations)\n",
    "\n",
    "num_variables = DF.shape[1]\n",
    "print(\"Number of variables (columns):\", num_variables)\n",
    "# I just used this code to find the number of observations and variables."
   ]
  },
  {
   "cell_type": "code",
   "execution_count": 9,
   "id": "8b82e07b-f9b2-4bfd-bc3f-535714ea5e6a",
   "metadata": {},
   "outputs": [
    {
     "data": {
      "text/plain": [
       "['item_number',\n",
       " 'set_name',\n",
       " 'theme',\n",
       " 'pieces',\n",
       " 'price',\n",
       " 'amazon_price',\n",
       " 'year',\n",
       " 'ages',\n",
       " 'pages',\n",
       " 'minifigures',\n",
       " 'packaging',\n",
       " 'weight',\n",
       " 'unique_pieces',\n",
       " 'size']"
      ]
     },
     "metadata": {},
     "output_type": "display_data"
    }
   ],
   "source": [
    "#Code for Question 1 (b)\n",
    "column_list = list(DF.columns)\n",
    "display(column_list)\n",
    "#I listed all of the columns in the data set."
   ]
  },
  {
   "cell_type": "code",
   "execution_count": 10,
   "id": "c1400af6-30f4-4a97-a260-064682ffeba2",
   "metadata": {},
   "outputs": [
    {
     "data": {
      "text/html": [
       "<div>\n",
       "<style scoped>\n",
       "    .dataframe tbody tr th:only-of-type {\n",
       "        vertical-align: middle;\n",
       "    }\n",
       "\n",
       "    .dataframe tbody tr th {\n",
       "        vertical-align: top;\n",
       "    }\n",
       "\n",
       "    .dataframe thead th {\n",
       "        text-align: right;\n",
       "    }\n",
       "</style>\n",
       "<table border=\"1\" class=\"dataframe\">\n",
       "  <thead>\n",
       "    <tr style=\"text-align: right;\">\n",
       "      <th></th>\n",
       "      <th>item_number</th>\n",
       "      <th>pieces</th>\n",
       "      <th>price</th>\n",
       "      <th>amazon_price</th>\n",
       "      <th>year</th>\n",
       "      <th>pages</th>\n",
       "      <th>minifigures</th>\n",
       "      <th>unique_pieces</th>\n",
       "    </tr>\n",
       "  </thead>\n",
       "  <tbody>\n",
       "    <tr>\n",
       "      <th>count</th>\n",
       "      <td>75.000000</td>\n",
       "      <td>75.000000</td>\n",
       "      <td>75.000000</td>\n",
       "      <td>75.000000</td>\n",
       "      <td>75.000000</td>\n",
       "      <td>75.000000</td>\n",
       "      <td>65.000000</td>\n",
       "      <td>75.000000</td>\n",
       "    </tr>\n",
       "    <tr>\n",
       "      <th>mean</th>\n",
       "      <td>37498.493333</td>\n",
       "      <td>196.453333</td>\n",
       "      <td>32.136667</td>\n",
       "      <td>39.393733</td>\n",
       "      <td>2019.053333</td>\n",
       "      <td>73.213333</td>\n",
       "      <td>2.615385</td>\n",
       "      <td>96.666667</td>\n",
       "    </tr>\n",
       "    <tr>\n",
       "      <th>std</th>\n",
       "      <td>20461.267542</td>\n",
       "      <td>213.914121</td>\n",
       "      <td>27.747263</td>\n",
       "      <td>33.301259</td>\n",
       "      <td>0.820239</td>\n",
       "      <td>76.949842</td>\n",
       "      <td>2.133749</td>\n",
       "      <td>89.471018</td>\n",
       "    </tr>\n",
       "    <tr>\n",
       "      <th>min</th>\n",
       "      <td>10859.000000</td>\n",
       "      <td>6.000000</td>\n",
       "      <td>4.990000</td>\n",
       "      <td>6.290000</td>\n",
       "      <td>2018.000000</td>\n",
       "      <td>1.000000</td>\n",
       "      <td>1.000000</td>\n",
       "      <td>5.000000</td>\n",
       "    </tr>\n",
       "    <tr>\n",
       "      <th>25%</th>\n",
       "      <td>10916.500000</td>\n",
       "      <td>37.000000</td>\n",
       "      <td>9.990000</td>\n",
       "      <td>17.980000</td>\n",
       "      <td>2018.000000</td>\n",
       "      <td>14.000000</td>\n",
       "      <td>1.000000</td>\n",
       "      <td>30.000000</td>\n",
       "    </tr>\n",
       "    <tr>\n",
       "      <th>50%</th>\n",
       "      <td>41378.000000</td>\n",
       "      <td>93.000000</td>\n",
       "      <td>19.990000</td>\n",
       "      <td>29.990000</td>\n",
       "      <td>2019.000000</td>\n",
       "      <td>44.000000</td>\n",
       "      <td>2.000000</td>\n",
       "      <td>61.000000</td>\n",
       "    </tr>\n",
       "    <tr>\n",
       "      <th>75%</th>\n",
       "      <td>60193.000000</td>\n",
       "      <td>323.500000</td>\n",
       "      <td>39.990000</td>\n",
       "      <td>53.935000</td>\n",
       "      <td>2020.000000</td>\n",
       "      <td>116.000000</td>\n",
       "      <td>3.000000</td>\n",
       "      <td>151.000000</td>\n",
       "    </tr>\n",
       "    <tr>\n",
       "      <th>max</th>\n",
       "      <td>60267.000000</td>\n",
       "      <td>897.000000</td>\n",
       "      <td>149.990000</td>\n",
       "      <td>184.990000</td>\n",
       "      <td>2020.000000</td>\n",
       "      <td>389.000000</td>\n",
       "      <td>15.000000</td>\n",
       "      <td>411.000000</td>\n",
       "    </tr>\n",
       "  </tbody>\n",
       "</table>\n",
       "</div>"
      ],
      "text/plain": [
       "        item_number      pieces       price  amazon_price         year  \\\n",
       "count     75.000000   75.000000   75.000000     75.000000    75.000000   \n",
       "mean   37498.493333  196.453333   32.136667     39.393733  2019.053333   \n",
       "std    20461.267542  213.914121   27.747263     33.301259     0.820239   \n",
       "min    10859.000000    6.000000    4.990000      6.290000  2018.000000   \n",
       "25%    10916.500000   37.000000    9.990000     17.980000  2018.000000   \n",
       "50%    41378.000000   93.000000   19.990000     29.990000  2019.000000   \n",
       "75%    60193.000000  323.500000   39.990000     53.935000  2020.000000   \n",
       "max    60267.000000  897.000000  149.990000    184.990000  2020.000000   \n",
       "\n",
       "            pages  minifigures  unique_pieces  \n",
       "count   75.000000    65.000000      75.000000  \n",
       "mean    73.213333     2.615385      96.666667  \n",
       "std     76.949842     2.133749      89.471018  \n",
       "min      1.000000     1.000000       5.000000  \n",
       "25%     14.000000     1.000000      30.000000  \n",
       "50%     44.000000     2.000000      61.000000  \n",
       "75%    116.000000     3.000000     151.000000  \n",
       "max    389.000000    15.000000     411.000000  "
      ]
     },
     "execution_count": 10,
     "metadata": {},
     "output_type": "execute_result"
    }
   ],
   "source": [
    "#Code for question 1 (d)\n",
    "DF.describe()\n",
    "#Found all the statistics for the data."
   ]
  },
  {
   "cell_type": "markdown",
   "id": "97271e3e-64c5-42d0-a38d-d422d5e2f8e4",
   "metadata": {},
   "source": [
    "## Problem 2\n",
    "###### (a) Display (or show) the data frame with only the columns that contain useful categorical information. If you left any columns out say why.\n",
    "###### (b) For each categorical column that you chose above, find the frequencies of the categories. Talk about what you learn from the results of each calculation (1-2 sentences is fine)\n",
    "###### Answer: One thing I learned is that there are 25 Lego sets for each of the three themes.I also learned that there are twice as many small sets as there are large sets."
   ]
  },
  {
   "cell_type": "code",
   "execution_count": 11,
   "id": "ee6982cd-3c39-4f93-8328-8b3ec2f23561",
   "metadata": {},
   "outputs": [
    {
     "data": {
      "text/html": [
       "<div>\n",
       "<style scoped>\n",
       "    .dataframe tbody tr th:only-of-type {\n",
       "        vertical-align: middle;\n",
       "    }\n",
       "\n",
       "    .dataframe tbody tr th {\n",
       "        vertical-align: top;\n",
       "    }\n",
       "\n",
       "    .dataframe thead th {\n",
       "        text-align: right;\n",
       "    }\n",
       "</style>\n",
       "<table border=\"1\" class=\"dataframe\">\n",
       "  <thead>\n",
       "    <tr style=\"text-align: right;\">\n",
       "      <th></th>\n",
       "      <th>item_number</th>\n",
       "      <th>set_name</th>\n",
       "      <th>theme</th>\n",
       "      <th>pieces</th>\n",
       "      <th>price</th>\n",
       "      <th>amazon_price</th>\n",
       "      <th>year</th>\n",
       "      <th>ages</th>\n",
       "      <th>pages</th>\n",
       "      <th>minifigures</th>\n",
       "      <th>packaging</th>\n",
       "      <th>weight</th>\n",
       "      <th>unique_pieces</th>\n",
       "      <th>size</th>\n",
       "    </tr>\n",
       "  </thead>\n",
       "  <tbody>\n",
       "    <tr>\n",
       "      <th>0</th>\n",
       "      <td>10859</td>\n",
       "      <td>My First Ladybird</td>\n",
       "      <td>DUPLO®</td>\n",
       "      <td>6</td>\n",
       "      <td>4.99</td>\n",
       "      <td>16.00</td>\n",
       "      <td>2018</td>\n",
       "      <td>Ages_1½-3</td>\n",
       "      <td>9</td>\n",
       "      <td>NaN</td>\n",
       "      <td>Box</td>\n",
       "      <td>NaN</td>\n",
       "      <td>5</td>\n",
       "      <td>Large</td>\n",
       "    </tr>\n",
       "    <tr>\n",
       "      <th>1</th>\n",
       "      <td>10860</td>\n",
       "      <td>My First Race Car</td>\n",
       "      <td>DUPLO®</td>\n",
       "      <td>6</td>\n",
       "      <td>4.99</td>\n",
       "      <td>9.45</td>\n",
       "      <td>2018</td>\n",
       "      <td>Ages_1½-3</td>\n",
       "      <td>9</td>\n",
       "      <td>NaN</td>\n",
       "      <td>Box</td>\n",
       "      <td>0.13Kg (0.29 lb)</td>\n",
       "      <td>6</td>\n",
       "      <td>Large</td>\n",
       "    </tr>\n",
       "    <tr>\n",
       "      <th>2</th>\n",
       "      <td>10862</td>\n",
       "      <td>My First Celebration</td>\n",
       "      <td>DUPLO®</td>\n",
       "      <td>41</td>\n",
       "      <td>14.99</td>\n",
       "      <td>39.89</td>\n",
       "      <td>2018</td>\n",
       "      <td>Ages_1½-3</td>\n",
       "      <td>9</td>\n",
       "      <td>NaN</td>\n",
       "      <td>Box</td>\n",
       "      <td>NaN</td>\n",
       "      <td>18</td>\n",
       "      <td>Large</td>\n",
       "    </tr>\n",
       "    <tr>\n",
       "      <th>3</th>\n",
       "      <td>10864</td>\n",
       "      <td>Large Playground Brick Box</td>\n",
       "      <td>DUPLO®</td>\n",
       "      <td>71</td>\n",
       "      <td>49.99</td>\n",
       "      <td>56.69</td>\n",
       "      <td>2018</td>\n",
       "      <td>Ages_2-5</td>\n",
       "      <td>32</td>\n",
       "      <td>2.0</td>\n",
       "      <td>Plastic box</td>\n",
       "      <td>1.41Kg (3.11 lb)</td>\n",
       "      <td>49</td>\n",
       "      <td>Large</td>\n",
       "    </tr>\n",
       "    <tr>\n",
       "      <th>4</th>\n",
       "      <td>10867</td>\n",
       "      <td>Farmers' Market</td>\n",
       "      <td>DUPLO®</td>\n",
       "      <td>26</td>\n",
       "      <td>19.99</td>\n",
       "      <td>36.99</td>\n",
       "      <td>2018</td>\n",
       "      <td>Ages_2-5</td>\n",
       "      <td>9</td>\n",
       "      <td>3.0</td>\n",
       "      <td>Box</td>\n",
       "      <td>NaN</td>\n",
       "      <td>18</td>\n",
       "      <td>Large</td>\n",
       "    </tr>\n",
       "    <tr>\n",
       "      <th>...</th>\n",
       "      <td>...</td>\n",
       "      <td>...</td>\n",
       "      <td>...</td>\n",
       "      <td>...</td>\n",
       "      <td>...</td>\n",
       "      <td>...</td>\n",
       "      <td>...</td>\n",
       "      <td>...</td>\n",
       "      <td>...</td>\n",
       "      <td>...</td>\n",
       "      <td>...</td>\n",
       "      <td>...</td>\n",
       "      <td>...</td>\n",
       "      <td>...</td>\n",
       "    </tr>\n",
       "    <tr>\n",
       "      <th>70</th>\n",
       "      <td>60251</td>\n",
       "      <td>Monster Truck</td>\n",
       "      <td>City</td>\n",
       "      <td>55</td>\n",
       "      <td>9.99</td>\n",
       "      <td>8.99</td>\n",
       "      <td>2020</td>\n",
       "      <td>Ages_5+</td>\n",
       "      <td>32</td>\n",
       "      <td>1.0</td>\n",
       "      <td>Box</td>\n",
       "      <td>0.14Kg (0.31 lb)</td>\n",
       "      <td>34</td>\n",
       "      <td>Small</td>\n",
       "    </tr>\n",
       "    <tr>\n",
       "      <th>71</th>\n",
       "      <td>60252</td>\n",
       "      <td>Construction Bulldozer</td>\n",
       "      <td>City</td>\n",
       "      <td>126</td>\n",
       "      <td>19.99</td>\n",
       "      <td>15.99</td>\n",
       "      <td>2020</td>\n",
       "      <td>Ages_4+</td>\n",
       "      <td>84</td>\n",
       "      <td>2.0</td>\n",
       "      <td>Box</td>\n",
       "      <td>0.35Kg (0.78 lb)</td>\n",
       "      <td>81</td>\n",
       "      <td>Small</td>\n",
       "    </tr>\n",
       "    <tr>\n",
       "      <th>72</th>\n",
       "      <td>60258</td>\n",
       "      <td>Tuning Workshop</td>\n",
       "      <td>City</td>\n",
       "      <td>897</td>\n",
       "      <td>99.99</td>\n",
       "      <td>99.99</td>\n",
       "      <td>2020</td>\n",
       "      <td>Ages_6+</td>\n",
       "      <td>389</td>\n",
       "      <td>7.0</td>\n",
       "      <td>Box</td>\n",
       "      <td>1.63Kg (3.58 lb)</td>\n",
       "      <td>411</td>\n",
       "      <td>Small</td>\n",
       "    </tr>\n",
       "    <tr>\n",
       "      <th>73</th>\n",
       "      <td>60266</td>\n",
       "      <td>Ocean Exploration Ship</td>\n",
       "      <td>City</td>\n",
       "      <td>745</td>\n",
       "      <td>149.99</td>\n",
       "      <td>149.99</td>\n",
       "      <td>2020</td>\n",
       "      <td>Ages_7+</td>\n",
       "      <td>229</td>\n",
       "      <td>8.0</td>\n",
       "      <td>Box</td>\n",
       "      <td>2.28Kg (5.03 lb)</td>\n",
       "      <td>314</td>\n",
       "      <td>Small</td>\n",
       "    </tr>\n",
       "    <tr>\n",
       "      <th>74</th>\n",
       "      <td>60267</td>\n",
       "      <td>Safari Off-Roader</td>\n",
       "      <td>City</td>\n",
       "      <td>168</td>\n",
       "      <td>19.99</td>\n",
       "      <td>17.99</td>\n",
       "      <td>2020</td>\n",
       "      <td>Ages_5+</td>\n",
       "      <td>76</td>\n",
       "      <td>2.0</td>\n",
       "      <td>Box</td>\n",
       "      <td>0.34Kg (0.76 lb)</td>\n",
       "      <td>86</td>\n",
       "      <td>Small</td>\n",
       "    </tr>\n",
       "  </tbody>\n",
       "</table>\n",
       "<p>75 rows × 14 columns</p>\n",
       "</div>"
      ],
      "text/plain": [
       "    item_number                    set_name   theme  pieces   price  \\\n",
       "0         10859           My First Ladybird  DUPLO®       6    4.99   \n",
       "1         10860           My First Race Car  DUPLO®       6    4.99   \n",
       "2         10862        My First Celebration  DUPLO®      41   14.99   \n",
       "3         10864  Large Playground Brick Box  DUPLO®      71   49.99   \n",
       "4         10867             Farmers' Market  DUPLO®      26   19.99   \n",
       "..          ...                         ...     ...     ...     ...   \n",
       "70        60251               Monster Truck    City      55    9.99   \n",
       "71        60252      Construction Bulldozer    City     126   19.99   \n",
       "72        60258             Tuning Workshop    City     897   99.99   \n",
       "73        60266      Ocean Exploration Ship    City     745  149.99   \n",
       "74        60267           Safari Off-Roader    City     168   19.99   \n",
       "\n",
       "    amazon_price  year       ages  pages  minifigures    packaging  \\\n",
       "0          16.00  2018  Ages_1½-3      9          NaN          Box   \n",
       "1           9.45  2018  Ages_1½-3      9          NaN          Box   \n",
       "2          39.89  2018  Ages_1½-3      9          NaN          Box   \n",
       "3          56.69  2018   Ages_2-5     32          2.0  Plastic box   \n",
       "4          36.99  2018   Ages_2-5      9          3.0          Box   \n",
       "..           ...   ...        ...    ...          ...          ...   \n",
       "70          8.99  2020    Ages_5+     32          1.0          Box   \n",
       "71         15.99  2020    Ages_4+     84          2.0          Box   \n",
       "72         99.99  2020    Ages_6+    389          7.0          Box   \n",
       "73        149.99  2020    Ages_7+    229          8.0          Box   \n",
       "74         17.99  2020    Ages_5+     76          2.0          Box   \n",
       "\n",
       "              weight  unique_pieces   size  \n",
       "0                NaN              5  Large  \n",
       "1   0.13Kg (0.29 lb)              6  Large  \n",
       "2                NaN             18  Large  \n",
       "3   1.41Kg (3.11 lb)             49  Large  \n",
       "4                NaN             18  Large  \n",
       "..               ...            ...    ...  \n",
       "70  0.14Kg (0.31 lb)             34  Small  \n",
       "71  0.35Kg (0.78 lb)             81  Small  \n",
       "72  1.63Kg (3.58 lb)            411  Small  \n",
       "73  2.28Kg (5.03 lb)            314  Small  \n",
       "74  0.34Kg (0.76 lb)             86  Small  \n",
       "\n",
       "[75 rows x 14 columns]"
      ]
     },
     "metadata": {},
     "output_type": "display_data"
    }
   ],
   "source": [
    "#Code for question 2 (a)\n",
    "my_variables = ['item_number',\n",
    "                'theme',\n",
    "                'size',\n",
    "                'set_name',\n",
    "                'year']\n",
    "# Created a list of variables that I think would be important to me.\n",
    "\n",
    "display(DF)\n",
    "#I left all of the numerical data out because you didn't say to add numerical information."
   ]
  },
  {
   "cell_type": "code",
   "execution_count": 12,
   "id": "f104c1e9-ef24-4616-8bc5-489ae615aa48",
   "metadata": {},
   "outputs": [
    {
     "name": "stdout",
     "output_type": "stream",
     "text": [
      "Frequencies for item_number:\n",
      "item_number\n",
      "10859    1\n",
      "60202    1\n",
      "60183    1\n",
      "60182    1\n",
      "60172    1\n",
      "        ..\n",
      "10929    1\n",
      "10928    1\n",
      "10927    1\n",
      "10926    1\n",
      "60267    1\n",
      "Name: count, Length: 75, dtype: int64 \n",
      "\n",
      "Frequencies for theme:\n",
      "theme\n",
      "DUPLO®     25\n",
      "Friends    25\n",
      "City       25\n",
      "Name: count, dtype: int64 \n",
      "\n",
      "Frequencies for size:\n",
      "size\n",
      "Small    50\n",
      "Large    25\n",
      "Name: count, dtype: int64 \n",
      "\n",
      "Frequencies for set_name:\n",
      "set_name\n",
      "My First Ladybird                   1\n",
      "People Pack - Outdoor Adventures    1\n",
      "Heavy Cargo Transport               1\n",
      "Pickup & Caravan                    1\n",
      "Dirt Road Pursuit                   1\n",
      "                                   ..\n",
      "Modular Playhouse                   1\n",
      "Bakery                              1\n",
      "Pizza Stand                         1\n",
      "Bedroom                             1\n",
      "Safari Off-Roader                   1\n",
      "Name: count, Length: 75, dtype: int64 \n",
      "\n",
      "Frequencies for year:\n",
      "year\n",
      "2020    27\n",
      "2019    25\n",
      "2018    23\n",
      "Name: count, dtype: int64 \n",
      "\n"
     ]
    }
   ],
   "source": [
    "#Answer for question 2 (b)\n",
    "print(\"Frequencies for item_number:\")\n",
    "print(DF[\"item_number\"].value_counts(), \"\\n\")\n",
    "print(\"Frequencies for theme:\")\n",
    "print(DF[\"theme\"].value_counts(), \"\\n\")\n",
    "print(\"Frequencies for size:\")\n",
    "print(DF[\"size\"].value_counts(), \"\\n\")\n",
    "print(\"Frequencies for set_name:\")\n",
    "print(DF[\"set_name\"].value_counts(), \"\\n\")\n",
    "print(\"Frequencies for year:\")\n",
    "print(DF[\"year\"].value_counts(), \"\\n\")\n",
    "#I found the frequencies of how many times each variable that I want to find out popped up in the data set. I did this by using .value_counts."
   ]
  },
  {
   "cell_type": "markdown",
   "id": "ed222ca6-de3c-474b-9e29-81e9419f7b14",
   "metadata": {},
   "source": [
    "### Problem 3\n",
    "###### (a) Make a scatter plot of the number of pieces vs the price. Color the data by the lego theme and add the set name as your hover_data.\n",
    "\n",
    "###### (b) Answer the three questions by describing what you see in the graph. Comment on any points that look like outliers.\n",
    "###### Do the more expensive sets have more pieces?\n",
    "###### Answer: Yes, more expensive sets have more pieces. You can tell because, in the graph, as the number of pieces increases, so does the price, indicating that more expensive sets have more pieces.\n",
    "###### What is the most expensive set? \n",
    "###### Answer: The most expensive set is the \"Ocean Exploration Ship\" in the City theme.\n",
    "###### Are there any differences between the themes?\n",
    "###### Answer: The \"Duplo\" theme has a lot fewer pieces compared to the \"City\" and \"Friends\" themed sets."
   ]
  },
  {
   "cell_type": "code",
   "execution_count": 13,
   "id": "51b8d276-6674-419d-a31d-eca458796502",
   "metadata": {},
   "outputs": [
    {
     "data": {
      "application/vnd.plotly.v1+json": {
       "config": {
        "plotlyServerURL": "https://plot.ly"
       },
       "data": [
        {
         "customdata": [
          [
           "My First Ladybird"
          ],
          [
           "My First Race Car"
          ],
          [
           "My First Celebration"
          ],
          [
           "Large Playground Brick Box"
          ],
          [
           "Farmers' Market"
          ],
          [
           "Farm Animals"
          ],
          [
           "Train Bridge and Tracks"
          ],
          [
           "Cargo Train"
          ],
          [
           "Spider-Man & Hulk Adventures"
          ],
          [
           "Rapunzel's Tower"
          ],
          [
           "Train Tracks"
          ],
          [
           "My First Fun Puzzle"
          ],
          [
           "My First Car Creations"
          ],
          [
           "Fire Truck"
          ],
          [
           "Baby Animals"
          ],
          [
           "Tropical Island"
          ],
          [
           "Plane"
          ],
          [
           "Submarine Adventure"
          ],
          [
           "Alphabet Truck"
          ],
          [
           "Tow Truck"
          ],
          [
           "Super Heroes Lab"
          ],
          [
           "Bedroom"
          ],
          [
           "Pizza Stand"
          ],
          [
           "Bakery"
          ],
          [
           "Modular Playhouse"
          ]
         ],
         "hovertemplate": "theme=DUPLO®<br>pieces=%{x}<br>price=%{y}<br>set_name=%{customdata[0]}<extra></extra>",
         "legendgroup": "DUPLO®",
         "marker": {
          "color": "#636efa",
          "symbol": "circle"
         },
         "mode": "markers",
         "name": "DUPLO®",
         "orientation": "v",
         "showlegend": true,
         "type": "scatter",
         "x": {
          "bdata": "BgAGACkARwAaABAAGgBpACYAJQAXAA8AIgAVAAkASQAMABgAJAAHAB4AEAASAC4AgQA=",
          "dtype": "i2"
         },
         "xaxis": "x",
         "y": {
          "bdata": "9ihcj8L1E0D2KFyPwvUTQHsUrkfh+i1AH4XrUbj+SEA9CtejcP0zQHsUrkfh+iNAPQrXo3D9OECPwvUoXP9dQD0K16Nw/T1APQrXo3D9PUA9CtejcP0zQD0K16Nw/TNAPQrXo3D9M0A9CtejcP0zQHsUrkfh+iNAH4XrUbj+TUB7FK5H4fojQD0K16Nw/TNAPQrXo3D9OED2KFyPwvUbQD0K16Nw/T1AexSuR+H6LUB7FK5H4fojQB+F61G4fkFAH4XrUbj+TUA=",
          "dtype": "f8"
         },
         "yaxis": "y"
        },
        {
         "customdata": [
          [
           "Stephanie's Soccer Practice"
          ],
          [
           "Olivia's Mission Vehicle"
          ],
          [
           "Mia's Tree House"
          ],
          [
           "Friendship House"
          ],
          [
           "Friends Advent Calendar"
          ],
          [
           "Stephanie's Heart Box"
          ],
          [
           "Mia's Heart Box"
          ],
          [
           "Mia's Forest Adventures"
          ],
          [
           "Stephanie's Obstacle Course"
          ],
          [
           "Mia's House"
          ],
          [
           "Andrea's Pool Party"
          ],
          [
           "Turtles Rescue Mission"
          ],
          [
           "Dolphins Rescue Mission"
          ],
          [
           "Andrea's Summer Heart Box"
          ],
          [
           "Olivia's Summer Heart Box"
          ],
          [
           "Heartlake City Hospital"
          ],
          [
           "Puppy Playground"
          ],
          [
           "Andrea's Play Cube - Singer"
          ],
          [
           "Mia's Play Cube - Veterinarian"
          ],
          [
           "Mia's Play Cube - Cinema"
          ],
          [
           "Baby Elephant Jungle Rescue"
          ],
          [
           "Tiger Hot Air Balloon Jungle Rescue"
          ],
          [
           "Jungle Rescue Base"
          ],
          [
           "Emma's Fashion Shop"
          ],
          [
           "Beach House"
          ]
         ],
         "hovertemplate": "theme=Friends<br>pieces=%{x}<br>price=%{y}<br>set_name=%{customdata[0]}<extra></extra>",
         "legendgroup": "Friends",
         "marker": {
          "color": "#EF553B",
          "symbol": "circle"
         },
         "mode": "markers",
         "name": "Friends",
         "orientation": "v",
         "showlegend": true,
         "type": "scatter",
         "x": {
          "bdata": "dwDfAF8B0gL0AVUAUwCGAFEBywLUAeEAawFTAF0AewE5ADEAKAAlAMsALgGIAlcBvAE=",
          "dtype": "i2"
         },
         "xaxis": "x",
         "y": {
          "bdata": "exSuR+H6LUA9CtejcP0zQD0K16Nw/T1Aj8L1KFx/UUA9CtejcP09QPYoXI/C9R9A9ihcj8L1H0B7FK5H4fotQB+F61G4/kNAj8L1KFx/UUAfhetRuP5IQD0K16Nw/TNAH4XrUbj+Q0D2KFyPwvUfQPYoXI/C9R9AH4XrUbj+SEB7FK5H4fojQHsUrkfh+iNAexSuR+H6I0B7FK5H4fojQD0K16Nw/TNAH4XrUbj+Q0CPwvUoXP9TQD0K16Nw/T1AH4XrUbj+SEA=",
          "dtype": "f8"
         },
         "yaxis": "y"
        },
        {
         "customdata": [
          [
           "Off-Road Chase"
          ],
          [
           "Mountain Fugitives"
          ],
          [
           "Dirt Road Pursuit"
          ],
          [
           "Pickup & Caravan"
          ],
          [
           "Heavy Cargo Transport"
          ],
          [
           "Mining Team"
          ],
          [
           "People Pack - Outdoor Adventures"
          ],
          [
           "Parachute Arrest"
          ],
          [
           "Dock Side Fire"
          ],
          [
           "Fire Station"
          ],
          [
           "Fire Plane"
          ],
          [
           "Construction Loader"
          ],
          [
           "Diving Yacht"
          ],
          [
           "Harvester Transport"
          ],
          [
           "Mars Research Shuttle"
          ],
          [
           "Police Helicopter Chase"
          ],
          [
           "Police Monster Truck Heist"
          ],
          [
           "Police Station"
          ],
          [
           "Fire Helicopter Response"
          ],
          [
           "Street Sweeper"
          ],
          [
           "Monster Truck"
          ],
          [
           "Construction Bulldozer"
          ],
          [
           "Tuning Workshop"
          ],
          [
           "Ocean Exploration Ship"
          ],
          [
           "Safari Off-Roader"
          ]
         ],
         "hovertemplate": "theme=City<br>pieces=%{x}<br>price=%{y}<br>set_name=%{customdata[0]}<extra></extra>",
         "legendgroup": "City",
         "marker": {
          "color": "#00cc96",
          "symbol": "circle"
         },
         "mode": "markers",
         "name": "City",
         "orientation": "v",
         "showlegend": true,
         "type": "scatter",
         "x": {
          "bdata": "JQBYACkBWAE2AVIApADaAGEA/QFrAVgAlABmAREB1ABqAecCXQBZADcAfgCBA+kCqAA=",
          "dtype": "i2"
         },
         "xaxis": "x",
         "y": {
          "bdata": "9ihcj8L1G0B7FK5H4fojQB+F61G4/kNAPQrXo3D9PUA9CtejcP09QHsUrkfh+iNAH4XrUbj+Q0AfhetRuP5DQD0K16Nw/TNAj8L1KFx/UUAfhetRuP5NQHsUrkfh+iNAPQrXo3D9M0A9CtejcP09QB+F61G4/kNAH4XrUbj+Q0AfhetRuP5NQI/C9Shc/1hAPQrXo3D9PUB7FK5H4fojQHsUrkfh+iNAPQrXo3D9M0CPwvUoXP9YQEjhehSuv2JAPQrXo3D9M0A=",
          "dtype": "f8"
         },
         "yaxis": "y"
        }
       ],
       "layout": {
        "legend": {
         "title": {
          "text": "theme"
         },
         "tracegroupgap": 0
        },
        "margin": {
         "t": 60
        },
        "template": {
         "data": {
          "bar": [
           {
            "error_x": {
             "color": "#2a3f5f"
            },
            "error_y": {
             "color": "#2a3f5f"
            },
            "marker": {
             "line": {
              "color": "#E5ECF6",
              "width": 0.5
             },
             "pattern": {
              "fillmode": "overlay",
              "size": 10,
              "solidity": 0.2
             }
            },
            "type": "bar"
           }
          ],
          "barpolar": [
           {
            "marker": {
             "line": {
              "color": "#E5ECF6",
              "width": 0.5
             },
             "pattern": {
              "fillmode": "overlay",
              "size": 10,
              "solidity": 0.2
             }
            },
            "type": "barpolar"
           }
          ],
          "carpet": [
           {
            "aaxis": {
             "endlinecolor": "#2a3f5f",
             "gridcolor": "white",
             "linecolor": "white",
             "minorgridcolor": "white",
             "startlinecolor": "#2a3f5f"
            },
            "baxis": {
             "endlinecolor": "#2a3f5f",
             "gridcolor": "white",
             "linecolor": "white",
             "minorgridcolor": "white",
             "startlinecolor": "#2a3f5f"
            },
            "type": "carpet"
           }
          ],
          "choropleth": [
           {
            "colorbar": {
             "outlinewidth": 0,
             "ticks": ""
            },
            "type": "choropleth"
           }
          ],
          "contour": [
           {
            "colorbar": {
             "outlinewidth": 0,
             "ticks": ""
            },
            "colorscale": [
             [
              0,
              "#0d0887"
             ],
             [
              0.1111111111111111,
              "#46039f"
             ],
             [
              0.2222222222222222,
              "#7201a8"
             ],
             [
              0.3333333333333333,
              "#9c179e"
             ],
             [
              0.4444444444444444,
              "#bd3786"
             ],
             [
              0.5555555555555556,
              "#d8576b"
             ],
             [
              0.6666666666666666,
              "#ed7953"
             ],
             [
              0.7777777777777778,
              "#fb9f3a"
             ],
             [
              0.8888888888888888,
              "#fdca26"
             ],
             [
              1,
              "#f0f921"
             ]
            ],
            "type": "contour"
           }
          ],
          "contourcarpet": [
           {
            "colorbar": {
             "outlinewidth": 0,
             "ticks": ""
            },
            "type": "contourcarpet"
           }
          ],
          "heatmap": [
           {
            "colorbar": {
             "outlinewidth": 0,
             "ticks": ""
            },
            "colorscale": [
             [
              0,
              "#0d0887"
             ],
             [
              0.1111111111111111,
              "#46039f"
             ],
             [
              0.2222222222222222,
              "#7201a8"
             ],
             [
              0.3333333333333333,
              "#9c179e"
             ],
             [
              0.4444444444444444,
              "#bd3786"
             ],
             [
              0.5555555555555556,
              "#d8576b"
             ],
             [
              0.6666666666666666,
              "#ed7953"
             ],
             [
              0.7777777777777778,
              "#fb9f3a"
             ],
             [
              0.8888888888888888,
              "#fdca26"
             ],
             [
              1,
              "#f0f921"
             ]
            ],
            "type": "heatmap"
           }
          ],
          "histogram": [
           {
            "marker": {
             "pattern": {
              "fillmode": "overlay",
              "size": 10,
              "solidity": 0.2
             }
            },
            "type": "histogram"
           }
          ],
          "histogram2d": [
           {
            "colorbar": {
             "outlinewidth": 0,
             "ticks": ""
            },
            "colorscale": [
             [
              0,
              "#0d0887"
             ],
             [
              0.1111111111111111,
              "#46039f"
             ],
             [
              0.2222222222222222,
              "#7201a8"
             ],
             [
              0.3333333333333333,
              "#9c179e"
             ],
             [
              0.4444444444444444,
              "#bd3786"
             ],
             [
              0.5555555555555556,
              "#d8576b"
             ],
             [
              0.6666666666666666,
              "#ed7953"
             ],
             [
              0.7777777777777778,
              "#fb9f3a"
             ],
             [
              0.8888888888888888,
              "#fdca26"
             ],
             [
              1,
              "#f0f921"
             ]
            ],
            "type": "histogram2d"
           }
          ],
          "histogram2dcontour": [
           {
            "colorbar": {
             "outlinewidth": 0,
             "ticks": ""
            },
            "colorscale": [
             [
              0,
              "#0d0887"
             ],
             [
              0.1111111111111111,
              "#46039f"
             ],
             [
              0.2222222222222222,
              "#7201a8"
             ],
             [
              0.3333333333333333,
              "#9c179e"
             ],
             [
              0.4444444444444444,
              "#bd3786"
             ],
             [
              0.5555555555555556,
              "#d8576b"
             ],
             [
              0.6666666666666666,
              "#ed7953"
             ],
             [
              0.7777777777777778,
              "#fb9f3a"
             ],
             [
              0.8888888888888888,
              "#fdca26"
             ],
             [
              1,
              "#f0f921"
             ]
            ],
            "type": "histogram2dcontour"
           }
          ],
          "mesh3d": [
           {
            "colorbar": {
             "outlinewidth": 0,
             "ticks": ""
            },
            "type": "mesh3d"
           }
          ],
          "parcoords": [
           {
            "line": {
             "colorbar": {
              "outlinewidth": 0,
              "ticks": ""
             }
            },
            "type": "parcoords"
           }
          ],
          "pie": [
           {
            "automargin": true,
            "type": "pie"
           }
          ],
          "scatter": [
           {
            "fillpattern": {
             "fillmode": "overlay",
             "size": 10,
             "solidity": 0.2
            },
            "type": "scatter"
           }
          ],
          "scatter3d": [
           {
            "line": {
             "colorbar": {
              "outlinewidth": 0,
              "ticks": ""
             }
            },
            "marker": {
             "colorbar": {
              "outlinewidth": 0,
              "ticks": ""
             }
            },
            "type": "scatter3d"
           }
          ],
          "scattercarpet": [
           {
            "marker": {
             "colorbar": {
              "outlinewidth": 0,
              "ticks": ""
             }
            },
            "type": "scattercarpet"
           }
          ],
          "scattergeo": [
           {
            "marker": {
             "colorbar": {
              "outlinewidth": 0,
              "ticks": ""
             }
            },
            "type": "scattergeo"
           }
          ],
          "scattergl": [
           {
            "marker": {
             "colorbar": {
              "outlinewidth": 0,
              "ticks": ""
             }
            },
            "type": "scattergl"
           }
          ],
          "scattermap": [
           {
            "marker": {
             "colorbar": {
              "outlinewidth": 0,
              "ticks": ""
             }
            },
            "type": "scattermap"
           }
          ],
          "scattermapbox": [
           {
            "marker": {
             "colorbar": {
              "outlinewidth": 0,
              "ticks": ""
             }
            },
            "type": "scattermapbox"
           }
          ],
          "scatterpolar": [
           {
            "marker": {
             "colorbar": {
              "outlinewidth": 0,
              "ticks": ""
             }
            },
            "type": "scatterpolar"
           }
          ],
          "scatterpolargl": [
           {
            "marker": {
             "colorbar": {
              "outlinewidth": 0,
              "ticks": ""
             }
            },
            "type": "scatterpolargl"
           }
          ],
          "scatterternary": [
           {
            "marker": {
             "colorbar": {
              "outlinewidth": 0,
              "ticks": ""
             }
            },
            "type": "scatterternary"
           }
          ],
          "surface": [
           {
            "colorbar": {
             "outlinewidth": 0,
             "ticks": ""
            },
            "colorscale": [
             [
              0,
              "#0d0887"
             ],
             [
              0.1111111111111111,
              "#46039f"
             ],
             [
              0.2222222222222222,
              "#7201a8"
             ],
             [
              0.3333333333333333,
              "#9c179e"
             ],
             [
              0.4444444444444444,
              "#bd3786"
             ],
             [
              0.5555555555555556,
              "#d8576b"
             ],
             [
              0.6666666666666666,
              "#ed7953"
             ],
             [
              0.7777777777777778,
              "#fb9f3a"
             ],
             [
              0.8888888888888888,
              "#fdca26"
             ],
             [
              1,
              "#f0f921"
             ]
            ],
            "type": "surface"
           }
          ],
          "table": [
           {
            "cells": {
             "fill": {
              "color": "#EBF0F8"
             },
             "line": {
              "color": "white"
             }
            },
            "header": {
             "fill": {
              "color": "#C8D4E3"
             },
             "line": {
              "color": "white"
             }
            },
            "type": "table"
           }
          ]
         },
         "layout": {
          "annotationdefaults": {
           "arrowcolor": "#2a3f5f",
           "arrowhead": 0,
           "arrowwidth": 1
          },
          "autotypenumbers": "strict",
          "coloraxis": {
           "colorbar": {
            "outlinewidth": 0,
            "ticks": ""
           }
          },
          "colorscale": {
           "diverging": [
            [
             0,
             "#8e0152"
            ],
            [
             0.1,
             "#c51b7d"
            ],
            [
             0.2,
             "#de77ae"
            ],
            [
             0.3,
             "#f1b6da"
            ],
            [
             0.4,
             "#fde0ef"
            ],
            [
             0.5,
             "#f7f7f7"
            ],
            [
             0.6,
             "#e6f5d0"
            ],
            [
             0.7,
             "#b8e186"
            ],
            [
             0.8,
             "#7fbc41"
            ],
            [
             0.9,
             "#4d9221"
            ],
            [
             1,
             "#276419"
            ]
           ],
           "sequential": [
            [
             0,
             "#0d0887"
            ],
            [
             0.1111111111111111,
             "#46039f"
            ],
            [
             0.2222222222222222,
             "#7201a8"
            ],
            [
             0.3333333333333333,
             "#9c179e"
            ],
            [
             0.4444444444444444,
             "#bd3786"
            ],
            [
             0.5555555555555556,
             "#d8576b"
            ],
            [
             0.6666666666666666,
             "#ed7953"
            ],
            [
             0.7777777777777778,
             "#fb9f3a"
            ],
            [
             0.8888888888888888,
             "#fdca26"
            ],
            [
             1,
             "#f0f921"
            ]
           ],
           "sequentialminus": [
            [
             0,
             "#0d0887"
            ],
            [
             0.1111111111111111,
             "#46039f"
            ],
            [
             0.2222222222222222,
             "#7201a8"
            ],
            [
             0.3333333333333333,
             "#9c179e"
            ],
            [
             0.4444444444444444,
             "#bd3786"
            ],
            [
             0.5555555555555556,
             "#d8576b"
            ],
            [
             0.6666666666666666,
             "#ed7953"
            ],
            [
             0.7777777777777778,
             "#fb9f3a"
            ],
            [
             0.8888888888888888,
             "#fdca26"
            ],
            [
             1,
             "#f0f921"
            ]
           ]
          },
          "colorway": [
           "#636efa",
           "#EF553B",
           "#00cc96",
           "#ab63fa",
           "#FFA15A",
           "#19d3f3",
           "#FF6692",
           "#B6E880",
           "#FF97FF",
           "#FECB52"
          ],
          "font": {
           "color": "#2a3f5f"
          },
          "geo": {
           "bgcolor": "white",
           "lakecolor": "white",
           "landcolor": "#E5ECF6",
           "showlakes": true,
           "showland": true,
           "subunitcolor": "white"
          },
          "hoverlabel": {
           "align": "left"
          },
          "hovermode": "closest",
          "mapbox": {
           "style": "light"
          },
          "paper_bgcolor": "white",
          "plot_bgcolor": "#E5ECF6",
          "polar": {
           "angularaxis": {
            "gridcolor": "white",
            "linecolor": "white",
            "ticks": ""
           },
           "bgcolor": "#E5ECF6",
           "radialaxis": {
            "gridcolor": "white",
            "linecolor": "white",
            "ticks": ""
           }
          },
          "scene": {
           "xaxis": {
            "backgroundcolor": "#E5ECF6",
            "gridcolor": "white",
            "gridwidth": 2,
            "linecolor": "white",
            "showbackground": true,
            "ticks": "",
            "zerolinecolor": "white"
           },
           "yaxis": {
            "backgroundcolor": "#E5ECF6",
            "gridcolor": "white",
            "gridwidth": 2,
            "linecolor": "white",
            "showbackground": true,
            "ticks": "",
            "zerolinecolor": "white"
           },
           "zaxis": {
            "backgroundcolor": "#E5ECF6",
            "gridcolor": "white",
            "gridwidth": 2,
            "linecolor": "white",
            "showbackground": true,
            "ticks": "",
            "zerolinecolor": "white"
           }
          },
          "shapedefaults": {
           "line": {
            "color": "#2a3f5f"
           }
          },
          "ternary": {
           "aaxis": {
            "gridcolor": "white",
            "linecolor": "white",
            "ticks": ""
           },
           "baxis": {
            "gridcolor": "white",
            "linecolor": "white",
            "ticks": ""
           },
           "bgcolor": "#E5ECF6",
           "caxis": {
            "gridcolor": "white",
            "linecolor": "white",
            "ticks": ""
           }
          },
          "title": {
           "x": 0.05
          },
          "xaxis": {
           "automargin": true,
           "gridcolor": "white",
           "linecolor": "white",
           "ticks": "",
           "title": {
            "standoff": 15
           },
           "zerolinecolor": "white",
           "zerolinewidth": 2
          },
          "yaxis": {
           "automargin": true,
           "gridcolor": "white",
           "linecolor": "white",
           "ticks": "",
           "title": {
            "standoff": 15
           },
           "zerolinecolor": "white",
           "zerolinewidth": 2
          }
         }
        },
        "title": {
         "text": "Scatter Plot: Pieces vs Price (Colored by Theme)"
        },
        "xaxis": {
         "anchor": "y",
         "domain": [
          0,
          1
         ],
         "title": {
          "text": "Number of Pieces"
         }
        },
        "yaxis": {
         "anchor": "x",
         "domain": [
          0,
          1
         ],
         "title": {
          "text": "Price (USD)"
         }
        }
       }
      },
      "image/png": "[encoded data removed]"
     },
     "metadata": {},
     "output_type": "display_data"
    }
   ],
   "source": [
    "# Code for question 3 (a)\n",
    "fig = px.scatter(\n",
    "    DF,\n",
    "    x='pieces',   #Variable one \"pieces\"        \n",
    "    y='price',     # Variable two \"price\"       \n",
    "    color='theme',  # Separating the dots by specific color so you can tell what theme the set is from easier.      \n",
    "    hover_data=['set_name'] #Adds extra key information to each dot on the plot. \n",
    ")\n",
    "\n",
    "fig.update_layout(\n",
    "    title=\"Scatter Plot: Pieces vs Price (Colored by Theme)\", #Title of the scatter plot\n",
    "    xaxis_title=\"Number of Pieces\", #Title for the x axis\n",
    "    yaxis_title=\"Price (USD)\" #Title for the y axis\n",
    ")\n",
    "\n",
    "fig.show()"
   ]
  },
  {
   "cell_type": "markdown",
   "id": "cae557e3-391c-4452-90de-5127d1d8ddfe",
   "metadata": {},
   "source": [
    "## Problem 4\n",
    "##### (a) Create a new column in the data frame that measures the price difference between Amazon and Retail.\n",
    "###### Price Difference = Amazon Price - Retail Price\n",
    "##### If the results of this calculation are positive, what does that mean about the prices?\n",
    "##### Answer: This shows that Amazon is selling its Legos for a lot more than the retail price.\n",
    "\n",
    "##### (b) Group the data by Lego Theme and use describe to do statistics on the price difference column you created in part (a). Comment on at least four things that you learned by looking at these statistics.\n",
    "###### Your result should be a data frame (or table) with the three Lego themes on the left and statistics about the price difference to the right of that.\n",
    "\n",
    "###### Answer: One thing I learned is that the biggest price difference is 115 dollars. Another thing I learned is that the average price difference for city sets is $5.39. I realized that the DUPLO and Friends sets have a relatively small average price difference. Lastly, I've noticed that the biggest price difference for the City themed sets is 39.96\n",
    "\n",
    "##### (c) Make a histogram of the price difference and color the bars by the Lego Theme."
   ]
  },
  {
   "cell_type": "code",
   "execution_count": 14,
   "id": "446f84a7-f87b-444c-8590-cf3654bf1388",
   "metadata": {},
   "outputs": [
    {
     "data": {
      "text/html": [
       "<div>\n",
       "<style scoped>\n",
       "    .dataframe tbody tr th:only-of-type {\n",
       "        vertical-align: middle;\n",
       "    }\n",
       "\n",
       "    .dataframe tbody tr th {\n",
       "        vertical-align: top;\n",
       "    }\n",
       "\n",
       "    .dataframe thead th {\n",
       "        text-align: right;\n",
       "    }\n",
       "</style>\n",
       "<table border=\"1\" class=\"dataframe\">\n",
       "  <thead>\n",
       "    <tr style=\"text-align: right;\">\n",
       "      <th></th>\n",
       "      <th>set_name</th>\n",
       "      <th>theme</th>\n",
       "      <th>price</th>\n",
       "      <th>amazon_price</th>\n",
       "      <th>price_difference</th>\n",
       "    </tr>\n",
       "  </thead>\n",
       "  <tbody>\n",
       "    <tr>\n",
       "      <th>0</th>\n",
       "      <td>My First Ladybird</td>\n",
       "      <td>DUPLO®</td>\n",
       "      <td>4.99</td>\n",
       "      <td>16.00</td>\n",
       "      <td>11.01</td>\n",
       "    </tr>\n",
       "    <tr>\n",
       "      <th>1</th>\n",
       "      <td>My First Race Car</td>\n",
       "      <td>DUPLO®</td>\n",
       "      <td>4.99</td>\n",
       "      <td>9.45</td>\n",
       "      <td>4.46</td>\n",
       "    </tr>\n",
       "    <tr>\n",
       "      <th>2</th>\n",
       "      <td>My First Celebration</td>\n",
       "      <td>DUPLO®</td>\n",
       "      <td>14.99</td>\n",
       "      <td>39.89</td>\n",
       "      <td>24.90</td>\n",
       "    </tr>\n",
       "    <tr>\n",
       "      <th>3</th>\n",
       "      <td>Large Playground Brick Box</td>\n",
       "      <td>DUPLO®</td>\n",
       "      <td>49.99</td>\n",
       "      <td>56.69</td>\n",
       "      <td>6.70</td>\n",
       "    </tr>\n",
       "    <tr>\n",
       "      <th>4</th>\n",
       "      <td>Farmers' Market</td>\n",
       "      <td>DUPLO®</td>\n",
       "      <td>19.99</td>\n",
       "      <td>36.99</td>\n",
       "      <td>17.00</td>\n",
       "    </tr>\n",
       "    <tr>\n",
       "      <th>...</th>\n",
       "      <td>...</td>\n",
       "      <td>...</td>\n",
       "      <td>...</td>\n",
       "      <td>...</td>\n",
       "      <td>...</td>\n",
       "    </tr>\n",
       "    <tr>\n",
       "      <th>70</th>\n",
       "      <td>Monster Truck</td>\n",
       "      <td>City</td>\n",
       "      <td>9.99</td>\n",
       "      <td>8.99</td>\n",
       "      <td>-1.00</td>\n",
       "    </tr>\n",
       "    <tr>\n",
       "      <th>71</th>\n",
       "      <td>Construction Bulldozer</td>\n",
       "      <td>City</td>\n",
       "      <td>19.99</td>\n",
       "      <td>15.99</td>\n",
       "      <td>-4.00</td>\n",
       "    </tr>\n",
       "    <tr>\n",
       "      <th>72</th>\n",
       "      <td>Tuning Workshop</td>\n",
       "      <td>City</td>\n",
       "      <td>99.99</td>\n",
       "      <td>99.99</td>\n",
       "      <td>0.00</td>\n",
       "    </tr>\n",
       "    <tr>\n",
       "      <th>73</th>\n",
       "      <td>Ocean Exploration Ship</td>\n",
       "      <td>City</td>\n",
       "      <td>149.99</td>\n",
       "      <td>149.99</td>\n",
       "      <td>0.00</td>\n",
       "    </tr>\n",
       "    <tr>\n",
       "      <th>74</th>\n",
       "      <td>Safari Off-Roader</td>\n",
       "      <td>City</td>\n",
       "      <td>19.99</td>\n",
       "      <td>17.99</td>\n",
       "      <td>-2.00</td>\n",
       "    </tr>\n",
       "  </tbody>\n",
       "</table>\n",
       "<p>75 rows × 5 columns</p>\n",
       "</div>"
      ],
      "text/plain": [
       "                      set_name   theme   price  amazon_price  price_difference\n",
       "0            My First Ladybird  DUPLO®    4.99         16.00             11.01\n",
       "1            My First Race Car  DUPLO®    4.99          9.45              4.46\n",
       "2         My First Celebration  DUPLO®   14.99         39.89             24.90\n",
       "3   Large Playground Brick Box  DUPLO®   49.99         56.69              6.70\n",
       "4              Farmers' Market  DUPLO®   19.99         36.99             17.00\n",
       "..                         ...     ...     ...           ...               ...\n",
       "70               Monster Truck    City    9.99          8.99             -1.00\n",
       "71      Construction Bulldozer    City   19.99         15.99             -4.00\n",
       "72             Tuning Workshop    City   99.99         99.99              0.00\n",
       "73      Ocean Exploration Ship    City  149.99        149.99              0.00\n",
       "74           Safari Off-Roader    City   19.99         17.99             -2.00\n",
       "\n",
       "[75 rows x 5 columns]"
      ]
     },
     "metadata": {},
     "output_type": "display_data"
    }
   ],
   "source": [
    "#Question 4 (a)\n",
    "DF['price_difference'] = DF['amazon_price'] - DF['price'] # Saying that now \"DF \"price_difference\" is basically the amazon price of the lego set minus the retail price of the lego set.\n",
    "display(DF[['set_name', 'theme', 'price', 'amazon_price', 'price_difference']]) #Displaying the set name, theme, price, amazon price, and price difference all in the column I created."
   ]
  },
  {
   "cell_type": "code",
   "execution_count": 15,
   "id": "623c7252-24e0-4b8d-af50-08c87599c112",
   "metadata": {},
   "outputs": [
    {
     "data": {
      "text/html": [
       "<!--| quarto-html-table-processing: none -->\n",
       "<table id=\"itables_28cc29d6_b1ba_4c68_aa44_630c6e66ab67\"><tbody><tr>\n",
       "    <td style=\"vertical-align:middle; text-align:left\">\n",
       "    <a href=https://mwouts.github.io/itables/><svg class=\"main-svg\" xmlns=\"http://www.w3.org/2000/svg\" xmlns:xlink=\"http://www.w3.org/1999/xlink\"\n",
       "width=\"64\" viewBox=\"0 0 500 400\" style=\"font-family: 'Droid Sans', sans-serif;\">\n",
       "    <g style=\"fill:#d9d7fc\">\n",
       "        <path d=\"M100,400H500V357H100Z\" />\n",
       "        <path d=\"M100,300H400V257H100Z\" />\n",
       "        <path d=\"M0,200H400V157H0Z\" />\n",
       "        <path d=\"M100,100H500V57H100Z\" />\n",
       "        <path d=\"M100,350H500V307H100Z\" />\n",
       "        <path d=\"M100,250H400V207H100Z\" />\n",
       "        <path d=\"M0,150H400V107H0Z\" />\n",
       "        <path d=\"M100,50H500V7H100Z\" />\n",
       "    </g>\n",
       "    <g style=\"fill:#1a1366;stroke:#1a1366;\">\n",
       "   <rect x=\"100\" y=\"7\" width=\"400\" height=\"43\">\n",
       "    <animate\n",
       "      attributeName=\"width\"\n",
       "      values=\"0;400;0\"\n",
       "      dur=\"5s\"\n",
       "      repeatCount=\"indefinite\" />\n",
       "      <animate\n",
       "      attributeName=\"x\"\n",
       "      values=\"100;100;500\"\n",
       "      dur=\"5s\"\n",
       "      repeatCount=\"indefinite\" />\n",
       "  </rect>\n",
       "        <rect x=\"0\" y=\"107\" width=\"400\" height=\"43\">\n",
       "    <animate\n",
       "      attributeName=\"width\"\n",
       "      values=\"0;400;0\"\n",
       "      dur=\"3.5s\"\n",
       "      repeatCount=\"indefinite\" />\n",
       "    <animate\n",
       "      attributeName=\"x\"\n",
       "      values=\"0;0;400\"\n",
       "      dur=\"3.5s\"\n",
       "      repeatCount=\"indefinite\" />\n",
       "  </rect>\n",
       "        <rect x=\"100\" y=\"207\" width=\"300\" height=\"43\">\n",
       "    <animate\n",
       "      attributeName=\"width\"\n",
       "      values=\"0;300;0\"\n",
       "      dur=\"3s\"\n",
       "      repeatCount=\"indefinite\" />\n",
       "    <animate\n",
       "      attributeName=\"x\"\n",
       "      values=\"100;100;400\"\n",
       "      dur=\"3s\"\n",
       "      repeatCount=\"indefinite\" />\n",
       "  </rect>\n",
       "        <rect x=\"100\" y=\"307\" width=\"400\" height=\"43\">\n",
       "    <animate\n",
       "      attributeName=\"width\"\n",
       "      values=\"0;400;0\"\n",
       "      dur=\"4s\"\n",
       "      repeatCount=\"indefinite\" />\n",
       "      <animate\n",
       "      attributeName=\"x\"\n",
       "      values=\"100;100;500\"\n",
       "      dur=\"4s\"\n",
       "      repeatCount=\"indefinite\" />\n",
       "  </rect>\n",
       "        <g style=\"fill:transparent;stroke-width:8; stroke-linejoin:round\" rx=\"5\">\n",
       "            <g transform=\"translate(45 50) rotate(-45)\">\n",
       "                <circle r=\"33\" cx=\"0\" cy=\"0\" />\n",
       "                <rect x=\"-8\" y=\"32\" width=\"16\" height=\"30\" />\n",
       "            </g>\n",
       "\n",
       "            <g transform=\"translate(450 152)\">\n",
       "                <polyline points=\"-15,-20 -35,-20 -35,40 25,40 25,20\" />\n",
       "                <rect x=\"-15\" y=\"-40\" width=\"60\" height=\"60\" />\n",
       "            </g>\n",
       "\n",
       "            <g transform=\"translate(50 352)\">\n",
       "                <polygon points=\"-35,-5 0,-40 35,-5\" />\n",
       "                <polygon points=\"-35,10 0,45 35,10\" />\n",
       "            </g>\n",
       "\n",
       "            <g transform=\"translate(75 250)\">\n",
       "                <polyline points=\"-30,30 -60,0 -30,-30\" />\n",
       "                <polyline points=\"0,30 -30,0 0,-30\" />\n",
       "            </g>\n",
       "\n",
       "            <g transform=\"translate(425 250) rotate(180)\">\n",
       "                <polyline points=\"-30,30 -60,0 -30,-30\" />\n",
       "                <polyline points=\"0,30 -30,0 0,-30\" />\n",
       "            </g>\n",
       "        </g>\n",
       "    </g>\n",
       "</svg>\n",
       "</a>\n",
       "    Loading ITables v2.5.2 from the internet...\n",
       "    (need <a href=https://mwouts.github.io/itables/troubleshooting.html>help</a>?)</td>\n",
       "    </tr></tbody></table>\n",
       "<link href=\"https://www.unpkg.com/dt_for_itables@2.4.0/dt_bundle.css\" rel=\"stylesheet\">\n",
       "<script type=\"module\">\n",
       "    import { ITable, jQuery as $ } from 'https://www.unpkg.com/dt_for_itables@2.4.0/dt_bundle.js';\n",
       "\n",
       "    document.querySelectorAll(\"#itables_28cc29d6_b1ba_4c68_aa44_630c6e66ab67:not(.dataTable)\").forEach(table => {\n",
       "        if (!(table instanceof HTMLTableElement))\n",
       "            return;\n",
       "\n",
       "        let dt_args = {\"layout\": {\"topStart\": null, \"topEnd\": null, \"bottomStart\": null, \"bottomEnd\": null}, \"order\": [], \"classes\": [\"display\", \"nowrap\"], \"style\": {\"table-layout\": \"auto\", \"width\": \"auto\", \"margin\": \"auto\", \"caption-side\": \"bottom\"}, \"text_in_header_can_be_selected\": true, \"table_html\": \"<table><thead>\\n    <tr style=\\\"text-align: right;\\\">\\n      <th></th>\\n      <th>count</th>\\n      <th>mean</th>\\n      <th>std</th>\\n      <th>min</th>\\n      <th>25%</th>\\n      <th>50%</th>\\n      <th>75%</th>\\n      <th>max</th>\\n    </tr>\\n    <tr>\\n      <th>theme</th>\\n      <th></th>\\n      <th></th>\\n      <th></th>\\n      <th></th>\\n      <th></th>\\n      <th></th>\\n      <th></th>\\n      <th></th>\\n    </tr>\\n  </thead></table>\", \"data_json\": \"[[\\\"City\\\", 25.0, 5.3996, 15.243677, -13.99, -4.01, -1.0, 12.0, 39.96], [\\\"DUPLO\\\\u00ae\\\", 25.0, 7.3924, 16.996152, -5.0, -2.0, 0.0, 11.01, 69.0], [\\\"Friends\\\", 25.0, 8.9792, 24.047927, -9.99, -0.04, 3.96, 8.94, 115.0]]\"};\n",
       "        new ITable(table, dt_args);\n",
       "    });\n",
       "</script>\n"
      ],
      "text/plain": [
       "<IPython.core.display.HTML object>"
      ]
     },
     "metadata": {},
     "output_type": "display_data"
    }
   ],
   "source": [
    "# Question 4 (b)\n",
    "theme_stats = DF.groupby('theme')['price_difference'].describe() # I used the \"Df.groupby\" command to group all the data between the 3 different themes regarding price difference, and I had it display all of those statistics in a column.\n",
    "show(theme_stats) #Showed all of the stats."
   ]
  },
  {
   "cell_type": "code",
   "execution_count": 16,
   "id": "e05b9899-5c01-4e6f-9c9e-976e16d77af9",
   "metadata": {},
   "outputs": [
    {
     "data": {
      "application/vnd.plotly.v1+json": {
       "config": {
        "plotlyServerURL": "https://plot.ly"
       },
       "data": [
        {
         "bingroup": "x",
         "hovertemplate": "theme=DUPLO®<br>Amazon Price - Retail Price=%{x}<br>count=%{y}<extra></extra>",
         "legendgroup": "DUPLO®",
         "marker": {
          "color": "#636efa",
          "pattern": {
           "shape": ""
          }
         },
         "name": "DUPLO®",
         "nbinsx": 20,
         "orientation": "v",
         "showlegend": true,
         "type": "histogram",
         "x": {
          "bdata": "hetRuB4FJkDWo3A9CtcRQGZmZmZm5jhAyMzMzMzMGkABAAAAAAAxQAAAAAAAAAAAAAAAAAAACMDoUbgeheshQOJ6FK5HQUZAAAAAAABAUUAAAAAAAAAAwABcj8L1KNy/6FG4HoXrD8AAAAAAAAAAwD0K16NwPSZAAAAAAAAAAACPwvUoXI8qQAAAAAAAAADAAAAAAAAACMBoZmZmZmbmvwAAAAAAAAjAAAAAAAAAAAAAAAAAAADwvwQAAAAAABTAAAAAAAAAAAA=",
          "dtype": "f8"
         },
         "xaxis": "x",
         "yaxis": "y"
        },
        {
         "bingroup": "x",
         "hovertemplate": "theme=Friends<br>Amazon Price - Retail Price=%{x}<br>count=%{y}<extra></extra>",
         "legendgroup": "Friends",
         "marker": {
          "color": "#EF553B",
          "pattern": {
           "shape": ""
          }
         },
         "name": "Friends",
         "nbinsx": 20,
         "orientation": "v",
         "showlegend": true,
         "type": "histogram",
         "x": {
          "bdata": "KFyPwvVoOUD3KFyPwvU5QKVwPQrX4zdAAQAAAADAXEAM16NwPQoQQAAAAAAAABxAzczMzMxMJUCsR+F6FK4PQAAAAAAAABDA+P//////G8B8FK5H4fojwJDC9ShcjyZApHA9CtejIMAAAAAAAAAcQAAAAAAAAAAAYI/C9Shc978AAAAAAADwv+F6FK5H4SFA6lG4HoXrH0BSuB6F61EVQAAAAAAAAAAAABSuR+F6pL8AEK5H4XqkvwAUrkfheqS/ABSuR+F6pL8=",
          "dtype": "f8"
         },
         "xaxis": "x",
         "yaxis": "y"
        },
        {
         "bingroup": "x",
         "hovertemplate": "theme=City<br>Amazon Price - Retail Price=%{x}<br>count=%{y}<extra></extra>",
         "legendgroup": "City",
         "marker": {
          "color": "#00cc96",
          "pattern": {
           "shape": ""
          }
         },
         "name": "City",
         "nbinsx": 20,
         "orientation": "v",
         "showlegend": true,
         "type": "histogram",
         "x": {
          "bdata": "ZmZmZmbmN0D+//////8ZQML1KFyPwjhAAAAAAAAAQkB8FK5H4fpDQP///////ydA/v//////PUCQwvUoXA8hwLgehetRuA5AeBSuR+H6K8AAAAAAAAAYwAAAAAAAAPC/6FG4HoXrD8CPwvUoXM84QAIAAAAAACDAENejcD0KEMAAAAAAAAAdwAAAAAAAAAAACNejcD0KGMAAAAAAAADwvwAAAAAAAPC//P//////D8AAAAAAAAAAAAAAAAAAAAAAAAAAAAAAAMA=",
          "dtype": "f8"
         },
         "xaxis": "x",
         "yaxis": "y"
        }
       ],
       "layout": {
        "barmode": "relative",
        "legend": {
         "title": {
          "text": "theme"
         },
         "tracegroupgap": 0
        },
        "template": {
         "data": {
          "bar": [
           {
            "error_x": {
             "color": "#2a3f5f"
            },
            "error_y": {
             "color": "#2a3f5f"
            },
            "marker": {
             "line": {
              "color": "#E5ECF6",
              "width": 0.5
             },
             "pattern": {
              "fillmode": "overlay",
              "size": 10,
              "solidity": 0.2
             }
            },
            "type": "bar"
           }
          ],
          "barpolar": [
           {
            "marker": {
             "line": {
              "color": "#E5ECF6",
              "width": 0.5
             },
             "pattern": {
              "fillmode": "overlay",
              "size": 10,
              "solidity": 0.2
             }
            },
            "type": "barpolar"
           }
          ],
          "carpet": [
           {
            "aaxis": {
             "endlinecolor": "#2a3f5f",
             "gridcolor": "white",
             "linecolor": "white",
             "minorgridcolor": "white",
             "startlinecolor": "#2a3f5f"
            },
            "baxis": {
             "endlinecolor": "#2a3f5f",
             "gridcolor": "white",
             "linecolor": "white",
             "minorgridcolor": "white",
             "startlinecolor": "#2a3f5f"
            },
            "type": "carpet"
           }
          ],
          "choropleth": [
           {
            "colorbar": {
             "outlinewidth": 0,
             "ticks": ""
            },
            "type": "choropleth"
           }
          ],
          "contour": [
           {
            "colorbar": {
             "outlinewidth": 0,
             "ticks": ""
            },
            "colorscale": [
             [
              0,
              "#0d0887"
             ],
             [
              0.1111111111111111,
              "#46039f"
             ],
             [
              0.2222222222222222,
              "#7201a8"
             ],
             [
              0.3333333333333333,
              "#9c179e"
             ],
             [
              0.4444444444444444,
              "#bd3786"
             ],
             [
              0.5555555555555556,
              "#d8576b"
             ],
             [
              0.6666666666666666,
              "#ed7953"
             ],
             [
              0.7777777777777778,
              "#fb9f3a"
             ],
             [
              0.8888888888888888,
              "#fdca26"
             ],
             [
              1,
              "#f0f921"
             ]
            ],
            "type": "contour"
           }
          ],
          "contourcarpet": [
           {
            "colorbar": {
             "outlinewidth": 0,
             "ticks": ""
            },
            "type": "contourcarpet"
           }
          ],
          "heatmap": [
           {
            "colorbar": {
             "outlinewidth": 0,
             "ticks": ""
            },
            "colorscale": [
             [
              0,
              "#0d0887"
             ],
             [
              0.1111111111111111,
              "#46039f"
             ],
             [
              0.2222222222222222,
              "#7201a8"
             ],
             [
              0.3333333333333333,
              "#9c179e"
             ],
             [
              0.4444444444444444,
              "#bd3786"
             ],
             [
              0.5555555555555556,
              "#d8576b"
             ],
             [
              0.6666666666666666,
              "#ed7953"
             ],
             [
              0.7777777777777778,
              "#fb9f3a"
             ],
             [
              0.8888888888888888,
              "#fdca26"
             ],
             [
              1,
              "#f0f921"
             ]
            ],
            "type": "heatmap"
           }
          ],
          "histogram": [
           {
            "marker": {
             "pattern": {
              "fillmode": "overlay",
              "size": 10,
              "solidity": 0.2
             }
            },
            "type": "histogram"
           }
          ],
          "histogram2d": [
           {
            "colorbar": {
             "outlinewidth": 0,
             "ticks": ""
            },
            "colorscale": [
             [
              0,
              "#0d0887"
             ],
             [
              0.1111111111111111,
              "#46039f"
             ],
             [
              0.2222222222222222,
              "#7201a8"
             ],
             [
              0.3333333333333333,
              "#9c179e"
             ],
             [
              0.4444444444444444,
              "#bd3786"
             ],
             [
              0.5555555555555556,
              "#d8576b"
             ],
             [
              0.6666666666666666,
              "#ed7953"
             ],
             [
              0.7777777777777778,
              "#fb9f3a"
             ],
             [
              0.8888888888888888,
              "#fdca26"
             ],
             [
              1,
              "#f0f921"
             ]
            ],
            "type": "histogram2d"
           }
          ],
          "histogram2dcontour": [
           {
            "colorbar": {
             "outlinewidth": 0,
             "ticks": ""
            },
            "colorscale": [
             [
              0,
              "#0d0887"
             ],
             [
              0.1111111111111111,
              "#46039f"
             ],
             [
              0.2222222222222222,
              "#7201a8"
             ],
             [
              0.3333333333333333,
              "#9c179e"
             ],
             [
              0.4444444444444444,
              "#bd3786"
             ],
             [
              0.5555555555555556,
              "#d8576b"
             ],
             [
              0.6666666666666666,
              "#ed7953"
             ],
             [
              0.7777777777777778,
              "#fb9f3a"
             ],
             [
              0.8888888888888888,
              "#fdca26"
             ],
             [
              1,
              "#f0f921"
             ]
            ],
            "type": "histogram2dcontour"
           }
          ],
          "mesh3d": [
           {
            "colorbar": {
             "outlinewidth": 0,
             "ticks": ""
            },
            "type": "mesh3d"
           }
          ],
          "parcoords": [
           {
            "line": {
             "colorbar": {
              "outlinewidth": 0,
              "ticks": ""
             }
            },
            "type": "parcoords"
           }
          ],
          "pie": [
           {
            "automargin": true,
            "type": "pie"
           }
          ],
          "scatter": [
           {
            "fillpattern": {
             "fillmode": "overlay",
             "size": 10,
             "solidity": 0.2
            },
            "type": "scatter"
           }
          ],
          "scatter3d": [
           {
            "line": {
             "colorbar": {
              "outlinewidth": 0,
              "ticks": ""
             }
            },
            "marker": {
             "colorbar": {
              "outlinewidth": 0,
              "ticks": ""
             }
            },
            "type": "scatter3d"
           }
          ],
          "scattercarpet": [
           {
            "marker": {
             "colorbar": {
              "outlinewidth": 0,
              "ticks": ""
             }
            },
            "type": "scattercarpet"
           }
          ],
          "scattergeo": [
           {
            "marker": {
             "colorbar": {
              "outlinewidth": 0,
              "ticks": ""
             }
            },
            "type": "scattergeo"
           }
          ],
          "scattergl": [
           {
            "marker": {
             "colorbar": {
              "outlinewidth": 0,
              "ticks": ""
             }
            },
            "type": "scattergl"
           }
          ],
          "scattermap": [
           {
            "marker": {
             "colorbar": {
              "outlinewidth": 0,
              "ticks": ""
             }
            },
            "type": "scattermap"
           }
          ],
          "scattermapbox": [
           {
            "marker": {
             "colorbar": {
              "outlinewidth": 0,
              "ticks": ""
             }
            },
            "type": "scattermapbox"
           }
          ],
          "scatterpolar": [
           {
            "marker": {
             "colorbar": {
              "outlinewidth": 0,
              "ticks": ""
             }
            },
            "type": "scatterpolar"
           }
          ],
          "scatterpolargl": [
           {
            "marker": {
             "colorbar": {
              "outlinewidth": 0,
              "ticks": ""
             }
            },
            "type": "scatterpolargl"
           }
          ],
          "scatterternary": [
           {
            "marker": {
             "colorbar": {
              "outlinewidth": 0,
              "ticks": ""
             }
            },
            "type": "scatterternary"
           }
          ],
          "surface": [
           {
            "colorbar": {
             "outlinewidth": 0,
             "ticks": ""
            },
            "colorscale": [
             [
              0,
              "#0d0887"
             ],
             [
              0.1111111111111111,
              "#46039f"
             ],
             [
              0.2222222222222222,
              "#7201a8"
             ],
             [
              0.3333333333333333,
              "#9c179e"
             ],
             [
              0.4444444444444444,
              "#bd3786"
             ],
             [
              0.5555555555555556,
              "#d8576b"
             ],
             [
              0.6666666666666666,
              "#ed7953"
             ],
             [
              0.7777777777777778,
              "#fb9f3a"
             ],
             [
              0.8888888888888888,
              "#fdca26"
             ],
             [
              1,
              "#f0f921"
             ]
            ],
            "type": "surface"
           }
          ],
          "table": [
           {
            "cells": {
             "fill": {
              "color": "#EBF0F8"
             },
             "line": {
              "color": "white"
             }
            },
            "header": {
             "fill": {
              "color": "#C8D4E3"
             },
             "line": {
              "color": "white"
             }
            },
            "type": "table"
           }
          ]
         },
         "layout": {
          "annotationdefaults": {
           "arrowcolor": "#2a3f5f",
           "arrowhead": 0,
           "arrowwidth": 1
          },
          "autotypenumbers": "strict",
          "coloraxis": {
           "colorbar": {
            "outlinewidth": 0,
            "ticks": ""
           }
          },
          "colorscale": {
           "diverging": [
            [
             0,
             "#8e0152"
            ],
            [
             0.1,
             "#c51b7d"
            ],
            [
             0.2,
             "#de77ae"
            ],
            [
             0.3,
             "#f1b6da"
            ],
            [
             0.4,
             "#fde0ef"
            ],
            [
             0.5,
             "#f7f7f7"
            ],
            [
             0.6,
             "#e6f5d0"
            ],
            [
             0.7,
             "#b8e186"
            ],
            [
             0.8,
             "#7fbc41"
            ],
            [
             0.9,
             "#4d9221"
            ],
            [
             1,
             "#276419"
            ]
           ],
           "sequential": [
            [
             0,
             "#0d0887"
            ],
            [
             0.1111111111111111,
             "#46039f"
            ],
            [
             0.2222222222222222,
             "#7201a8"
            ],
            [
             0.3333333333333333,
             "#9c179e"
            ],
            [
             0.4444444444444444,
             "#bd3786"
            ],
            [
             0.5555555555555556,
             "#d8576b"
            ],
            [
             0.6666666666666666,
             "#ed7953"
            ],
            [
             0.7777777777777778,
             "#fb9f3a"
            ],
            [
             0.8888888888888888,
             "#fdca26"
            ],
            [
             1,
             "#f0f921"
            ]
           ],
           "sequentialminus": [
            [
             0,
             "#0d0887"
            ],
            [
             0.1111111111111111,
             "#46039f"
            ],
            [
             0.2222222222222222,
             "#7201a8"
            ],
            [
             0.3333333333333333,
             "#9c179e"
            ],
            [
             0.4444444444444444,
             "#bd3786"
            ],
            [
             0.5555555555555556,
             "#d8576b"
            ],
            [
             0.6666666666666666,
             "#ed7953"
            ],
            [
             0.7777777777777778,
             "#fb9f3a"
            ],
            [
             0.8888888888888888,
             "#fdca26"
            ],
            [
             1,
             "#f0f921"
            ]
           ]
          },
          "colorway": [
           "#636efa",
           "#EF553B",
           "#00cc96",
           "#ab63fa",
           "#FFA15A",
           "#19d3f3",
           "#FF6692",
           "#B6E880",
           "#FF97FF",
           "#FECB52"
          ],
          "font": {
           "color": "#2a3f5f"
          },
          "geo": {
           "bgcolor": "white",
           "lakecolor": "white",
           "landcolor": "#E5ECF6",
           "showlakes": true,
           "showland": true,
           "subunitcolor": "white"
          },
          "hoverlabel": {
           "align": "left"
          },
          "hovermode": "closest",
          "mapbox": {
           "style": "light"
          },
          "paper_bgcolor": "white",
          "plot_bgcolor": "#E5ECF6",
          "polar": {
           "angularaxis": {
            "gridcolor": "white",
            "linecolor": "white",
            "ticks": ""
           },
           "bgcolor": "#E5ECF6",
           "radialaxis": {
            "gridcolor": "white",
            "linecolor": "white",
            "ticks": ""
           }
          },
          "scene": {
           "xaxis": {
            "backgroundcolor": "#E5ECF6",
            "gridcolor": "white",
            "gridwidth": 2,
            "linecolor": "white",
            "showbackground": true,
            "ticks": "",
            "zerolinecolor": "white"
           },
           "yaxis": {
            "backgroundcolor": "#E5ECF6",
            "gridcolor": "white",
            "gridwidth": 2,
            "linecolor": "white",
            "showbackground": true,
            "ticks": "",
            "zerolinecolor": "white"
           },
           "zaxis": {
            "backgroundcolor": "#E5ECF6",
            "gridcolor": "white",
            "gridwidth": 2,
            "linecolor": "white",
            "showbackground": true,
            "ticks": "",
            "zerolinecolor": "white"
           }
          },
          "shapedefaults": {
           "line": {
            "color": "#2a3f5f"
           }
          },
          "ternary": {
           "aaxis": {
            "gridcolor": "white",
            "linecolor": "white",
            "ticks": ""
           },
           "baxis": {
            "gridcolor": "white",
            "linecolor": "white",
            "ticks": ""
           },
           "bgcolor": "#E5ECF6",
           "caxis": {
            "gridcolor": "white",
            "linecolor": "white",
            "ticks": ""
           }
          },
          "title": {
           "x": 0.05
          },
          "xaxis": {
           "automargin": true,
           "gridcolor": "white",
           "linecolor": "white",
           "ticks": "",
           "title": {
            "standoff": 15
           },
           "zerolinecolor": "white",
           "zerolinewidth": 2
          },
          "yaxis": {
           "automargin": true,
           "gridcolor": "white",
           "linecolor": "white",
           "ticks": "",
           "title": {
            "standoff": 15
           },
           "zerolinecolor": "white",
           "zerolinewidth": 2
          }
         }
        },
        "title": {
         "text": "Histogram of Price Difference by Lego Theme"
        },
        "xaxis": {
         "anchor": "y",
         "domain": [
          0,
          1
         ],
         "title": {
          "text": "Amazon Price - Retail Price"
         }
        },
        "yaxis": {
         "anchor": "x",
         "domain": [
          0,
          1
         ],
         "title": {
          "text": "count"
         }
        }
       }
      },
      "image/png": "[encoded data removed]"
     },
     "metadata": {},
     "output_type": "display_data"
    }
   ],
   "source": [
    "# Question 4 (c)\n",
    "fig = px.histogram(\n",
    "    DF,\n",
    "    x='price_difference',\n",
    "    color='theme',\n",
    "    nbins=20,\n",
    "    title='Histogram of Price Difference by Lego Theme',\n",
    "    labels={'price_difference': 'Amazon Price - Retail Price'}\n",
    ")\n",
    "fig.show()\n",
    "# I created a histogram regarding the price difference between all three 3 different themes. I then sorted the 3 different themes by color so I can easily tell the difference between them. After that, I added x-axis and y-axis labels as well as a title to the histogram."
   ]
  },
  {
   "cell_type": "markdown",
   "id": "7b211b68-5207-42a6-9d47-3a74690e7d3e",
   "metadata": {},
   "source": [
    "## Problem 5\n",
    "##### (a) What was the most expensive set based on Retail price? Show the full data frame information for this observation. Comment on your results comparing Amazon and Retail, number of pieces or minifigs, etc.\n",
    "\n",
    "###### Answer: The most expensive set based of retail price is \"Ocean Exploration ship\". It is the same price on both the retail market and on Amazon. It doesn't have the most minifigures, but it still has a good amount of minifigures, which is 8. This set has the second-highest number of pieces.\n",
    "\n",
    "##### (b) What was the most expensive set based on Amazon price? Show the full data frame information for this observation.\n",
    "\n",
    "###### Answer: The most expensive set on Amazon is the \"Friendship House\".\n",
    "\n",
    "##### (c) How many sets were above $100 on either Retail or Amazon? Show the full data frame information for these observations. Comment on any observations for these sets.\n",
    "\n",
    "###### Answer: Only 3 sets were above 100 dollars."
   ]
  },
  {
   "cell_type": "code",
   "execution_count": 17,
   "id": "13188213-619c-4f0a-a8e8-d2a839f1c927",
   "metadata": {},
   "outputs": [
    {
     "data": {
      "text/html": [
       "<div>\n",
       "<style scoped>\n",
       "    .dataframe tbody tr th:only-of-type {\n",
       "        vertical-align: middle;\n",
       "    }\n",
       "\n",
       "    .dataframe tbody tr th {\n",
       "        vertical-align: top;\n",
       "    }\n",
       "\n",
       "    .dataframe thead th {\n",
       "        text-align: right;\n",
       "    }\n",
       "</style>\n",
       "<table border=\"1\" class=\"dataframe\">\n",
       "  <thead>\n",
       "    <tr style=\"text-align: right;\">\n",
       "      <th></th>\n",
       "      <th>item_number</th>\n",
       "      <th>set_name</th>\n",
       "      <th>theme</th>\n",
       "      <th>pieces</th>\n",
       "      <th>price</th>\n",
       "      <th>amazon_price</th>\n",
       "      <th>year</th>\n",
       "      <th>ages</th>\n",
       "      <th>pages</th>\n",
       "      <th>minifigures</th>\n",
       "      <th>packaging</th>\n",
       "      <th>weight</th>\n",
       "      <th>unique_pieces</th>\n",
       "      <th>size</th>\n",
       "      <th>price_difference</th>\n",
       "    </tr>\n",
       "  </thead>\n",
       "  <tbody>\n",
       "    <tr>\n",
       "      <th>73</th>\n",
       "      <td>60266</td>\n",
       "      <td>Ocean Exploration Ship</td>\n",
       "      <td>City</td>\n",
       "      <td>745</td>\n",
       "      <td>149.99</td>\n",
       "      <td>149.99</td>\n",
       "      <td>2020</td>\n",
       "      <td>Ages_7+</td>\n",
       "      <td>229</td>\n",
       "      <td>8.0</td>\n",
       "      <td>Box</td>\n",
       "      <td>2.28Kg (5.03 lb)</td>\n",
       "      <td>314</td>\n",
       "      <td>Small</td>\n",
       "      <td>0.0</td>\n",
       "    </tr>\n",
       "  </tbody>\n",
       "</table>\n",
       "</div>"
      ],
      "text/plain": [
       "    item_number                set_name theme  pieces   price  amazon_price  \\\n",
       "73        60266  Ocean Exploration Ship  City     745  149.99        149.99   \n",
       "\n",
       "    year     ages  pages  minifigures packaging            weight  \\\n",
       "73  2020  Ages_7+    229          8.0       Box  2.28Kg (5.03 lb)   \n",
       "\n",
       "    unique_pieces   size  price_difference  \n",
       "73            314  Small               0.0  "
      ]
     },
     "metadata": {},
     "output_type": "display_data"
    }
   ],
   "source": [
    "#Question 5 (a)\n",
    "mask_retail_max = DF['price'] == DF['price'].max() # I created a mask for the most expensive lego set based on retail price.\n",
    "most_expensive_retail = DF[mask_retail_max] #Creating a new DF for the mask.\n",
    "display(most_expensive_retail) #Displayed the mask."
   ]
  },
  {
   "cell_type": "code",
   "execution_count": 18,
   "id": "af9178cf-ef1d-4c80-bfbd-623d83e51ab6",
   "metadata": {},
   "outputs": [
    {
     "data": {
      "text/html": [
       "<div>\n",
       "<style scoped>\n",
       "    .dataframe tbody tr th:only-of-type {\n",
       "        vertical-align: middle;\n",
       "    }\n",
       "\n",
       "    .dataframe tbody tr th {\n",
       "        vertical-align: top;\n",
       "    }\n",
       "\n",
       "    .dataframe thead th {\n",
       "        text-align: right;\n",
       "    }\n",
       "</style>\n",
       "<table border=\"1\" class=\"dataframe\">\n",
       "  <thead>\n",
       "    <tr style=\"text-align: right;\">\n",
       "      <th></th>\n",
       "      <th>item_number</th>\n",
       "      <th>set_name</th>\n",
       "      <th>theme</th>\n",
       "      <th>pieces</th>\n",
       "      <th>price</th>\n",
       "      <th>amazon_price</th>\n",
       "      <th>year</th>\n",
       "      <th>ages</th>\n",
       "      <th>pages</th>\n",
       "      <th>minifigures</th>\n",
       "      <th>packaging</th>\n",
       "      <th>weight</th>\n",
       "      <th>unique_pieces</th>\n",
       "      <th>size</th>\n",
       "      <th>price_difference</th>\n",
       "    </tr>\n",
       "  </thead>\n",
       "  <tbody>\n",
       "    <tr>\n",
       "      <th>28</th>\n",
       "      <td>41340</td>\n",
       "      <td>Friendship House</td>\n",
       "      <td>Friends</td>\n",
       "      <td>722</td>\n",
       "      <td>69.99</td>\n",
       "      <td>184.99</td>\n",
       "      <td>2018</td>\n",
       "      <td>Ages_6-12</td>\n",
       "      <td>164</td>\n",
       "      <td>3.0</td>\n",
       "      <td>Box</td>\n",
       "      <td>1.14Kg (2.51 lb)</td>\n",
       "      <td>309</td>\n",
       "      <td>Small</td>\n",
       "      <td>115.0</td>\n",
       "    </tr>\n",
       "  </tbody>\n",
       "</table>\n",
       "</div>"
      ],
      "text/plain": [
       "    item_number          set_name    theme  pieces  price  amazon_price  year  \\\n",
       "28        41340  Friendship House  Friends     722  69.99        184.99  2018   \n",
       "\n",
       "         ages  pages  minifigures packaging            weight  unique_pieces  \\\n",
       "28  Ages_6-12    164          3.0       Box  1.14Kg (2.51 lb)            309   \n",
       "\n",
       "     size  price_difference  \n",
       "28  Small             115.0  "
      ]
     },
     "metadata": {},
     "output_type": "display_data"
    }
   ],
   "source": [
    "#Question 5 (b)\n",
    "mask_amazon_max = DF['amazon_price'] == DF['amazon_price'].max() # I created a mask for the most expensive lego set based on the Amazon price.\n",
    "most_expensive_amazon = DF[mask_amazon_max] #Creating a new DF for the mask.\n",
    "display(most_expensive_amazon) #Displayed the mask."
   ]
  },
  {
   "cell_type": "code",
   "execution_count": 19,
   "id": "eacaa676-9a34-4521-a604-4b62398c9891",
   "metadata": {},
   "outputs": [
    {
     "data": {
      "text/html": [
       "<div>\n",
       "<style scoped>\n",
       "    .dataframe tbody tr th:only-of-type {\n",
       "        vertical-align: middle;\n",
       "    }\n",
       "\n",
       "    .dataframe tbody tr th {\n",
       "        vertical-align: top;\n",
       "    }\n",
       "\n",
       "    .dataframe thead th {\n",
       "        text-align: right;\n",
       "    }\n",
       "</style>\n",
       "<table border=\"1\" class=\"dataframe\">\n",
       "  <thead>\n",
       "    <tr style=\"text-align: right;\">\n",
       "      <th></th>\n",
       "      <th>item_number</th>\n",
       "      <th>set_name</th>\n",
       "      <th>theme</th>\n",
       "      <th>pieces</th>\n",
       "      <th>price</th>\n",
       "      <th>amazon_price</th>\n",
       "      <th>year</th>\n",
       "      <th>ages</th>\n",
       "      <th>pages</th>\n",
       "      <th>minifigures</th>\n",
       "      <th>packaging</th>\n",
       "      <th>weight</th>\n",
       "      <th>unique_pieces</th>\n",
       "      <th>size</th>\n",
       "      <th>price_difference</th>\n",
       "    </tr>\n",
       "  </thead>\n",
       "  <tbody>\n",
       "    <tr>\n",
       "      <th>7</th>\n",
       "      <td>10875</td>\n",
       "      <td>Cargo Train</td>\n",
       "      <td>DUPLO®</td>\n",
       "      <td>105</td>\n",
       "      <td>119.99</td>\n",
       "      <td>128.95</td>\n",
       "      <td>2018</td>\n",
       "      <td>Ages_2-5</td>\n",
       "      <td>64</td>\n",
       "      <td>3.0</td>\n",
       "      <td>Box</td>\n",
       "      <td>2.86Kg (6.31 lb)</td>\n",
       "      <td>68</td>\n",
       "      <td>Large</td>\n",
       "      <td>8.96</td>\n",
       "    </tr>\n",
       "    <tr>\n",
       "      <th>28</th>\n",
       "      <td>41340</td>\n",
       "      <td>Friendship House</td>\n",
       "      <td>Friends</td>\n",
       "      <td>722</td>\n",
       "      <td>69.99</td>\n",
       "      <td>184.99</td>\n",
       "      <td>2018</td>\n",
       "      <td>Ages_6-12</td>\n",
       "      <td>164</td>\n",
       "      <td>3.0</td>\n",
       "      <td>Box</td>\n",
       "      <td>1.14Kg (2.51 lb)</td>\n",
       "      <td>309</td>\n",
       "      <td>Small</td>\n",
       "      <td>115.00</td>\n",
       "    </tr>\n",
       "    <tr>\n",
       "      <th>73</th>\n",
       "      <td>60266</td>\n",
       "      <td>Ocean Exploration Ship</td>\n",
       "      <td>City</td>\n",
       "      <td>745</td>\n",
       "      <td>149.99</td>\n",
       "      <td>149.99</td>\n",
       "      <td>2020</td>\n",
       "      <td>Ages_7+</td>\n",
       "      <td>229</td>\n",
       "      <td>8.0</td>\n",
       "      <td>Box</td>\n",
       "      <td>2.28Kg (5.03 lb)</td>\n",
       "      <td>314</td>\n",
       "      <td>Small</td>\n",
       "      <td>0.00</td>\n",
       "    </tr>\n",
       "  </tbody>\n",
       "</table>\n",
       "</div>"
      ],
      "text/plain": [
       "    item_number                set_name    theme  pieces   price  \\\n",
       "7         10875             Cargo Train   DUPLO®     105  119.99   \n",
       "28        41340        Friendship House  Friends     722   69.99   \n",
       "73        60266  Ocean Exploration Ship     City     745  149.99   \n",
       "\n",
       "    amazon_price  year       ages  pages  minifigures packaging  \\\n",
       "7         128.95  2018   Ages_2-5     64          3.0       Box   \n",
       "28        184.99  2018  Ages_6-12    164          3.0       Box   \n",
       "73        149.99  2020    Ages_7+    229          8.0       Box   \n",
       "\n",
       "              weight  unique_pieces   size  price_difference  \n",
       "7   2.86Kg (6.31 lb)             68  Large              8.96  \n",
       "28  1.14Kg (2.51 lb)            309  Small            115.00  \n",
       "73  2.28Kg (5.03 lb)            314  Small              0.00  "
      ]
     },
     "metadata": {},
     "output_type": "display_data"
    }
   ],
   "source": [
    "mask_above_100 = (DF['price'] > 100) | (DF['amazon_price'] > 100) #I created a mask to only show results for lego sets that had a greater price than 100 dollars on both Amazon and the retail market.\n",
    "expensive_sets = DF[mask_above_100] #Creating a new DF for the mask.\n",
    "display(expensive_sets) #Displayed the mask"
   ]
  },
  {
   "cell_type": "markdown",
   "id": "184b4ec9-1895-4e71-949a-79b7b367a544",
   "metadata": {},
   "source": [
    "## Problem 6\n",
    "#### (a) On average is the price of Legos increasing, decreasing, or staying the same over the three years?\n",
    "###### Answer: Between 2018-2019, the prices have stayed relatively the same, but in 2020, prices have increased by 10 dollars.\n",
    "#### (b) On average are the number of pieces increase, decreasing, or staying the same over the three years?\n",
    "###### Answer: The number of pieces is definitely increasing per year.\n",
    "#### (c) Which set has the most minifigures and how many sets have zero or an unknown number of minifigures?\n",
    "###### Answer: \"People Pack - Outdoor Adventures\" has the most minifigures in its set. 10 sets have zero or an unknown number of minifigures. \n",
    "###### Hint - the second question is more challenging that it first appears."
   ]
  },
  {
   "cell_type": "code",
   "execution_count": 22,
   "id": "04b3f124-a5d8-4434-b61f-8502877044d8",
   "metadata": {},
   "outputs": [
    {
     "data": {
      "text/plain": [
       "year\n",
       "2018    28.772609\n",
       "2019    28.670000\n",
       "2020    38.212222\n",
       "Name: price, dtype: float64"
      ]
     },
     "execution_count": 22,
     "metadata": {},
     "output_type": "execute_result"
    }
   ],
   "source": [
    "#Problem 6 (a) \n",
    "DF.groupby('year')['price'].mean()\n",
    "# Grouped together by year and calculated the average retail price"
   ]
  },
  {
   "cell_type": "code",
   "execution_count": 24,
   "id": "eabbbe00-212a-4be4-9f1a-8e91935bbc0e",
   "metadata": {},
   "outputs": [
    {
     "data": {
      "text/plain": [
       "year\n",
       "2018    157.913043\n",
       "2019    193.120000\n",
       "2020    232.370370\n",
       "Name: pieces, dtype: float64"
      ]
     },
     "execution_count": 24,
     "metadata": {},
     "output_type": "execute_result"
    }
   ],
   "source": [
    "#Problem 6 (b)\n",
    "DF.groupby('year')['pieces'].mean()\n",
    "# Grouped by year and calculated the average number of pieces"
   ]
  },
  {
   "cell_type": "code",
   "execution_count": 36,
   "id": "1d6f3f6d-622d-4234-9f68-a0817e3f3b8f",
   "metadata": {},
   "outputs": [
    {
     "data": {
      "text/html": [
       "<div>\n",
       "<style scoped>\n",
       "    .dataframe tbody tr th:only-of-type {\n",
       "        vertical-align: middle;\n",
       "    }\n",
       "\n",
       "    .dataframe tbody tr th {\n",
       "        vertical-align: top;\n",
       "    }\n",
       "\n",
       "    .dataframe thead th {\n",
       "        text-align: right;\n",
       "    }\n",
       "</style>\n",
       "<table border=\"1\" class=\"dataframe\">\n",
       "  <thead>\n",
       "    <tr style=\"text-align: right;\">\n",
       "      <th></th>\n",
       "      <th>item_number</th>\n",
       "      <th>set_name</th>\n",
       "      <th>theme</th>\n",
       "      <th>pieces</th>\n",
       "      <th>price</th>\n",
       "      <th>amazon_price</th>\n",
       "      <th>year</th>\n",
       "      <th>ages</th>\n",
       "      <th>pages</th>\n",
       "      <th>minifigures</th>\n",
       "      <th>packaging</th>\n",
       "      <th>weight</th>\n",
       "      <th>unique_pieces</th>\n",
       "      <th>size</th>\n",
       "      <th>price_difference</th>\n",
       "    </tr>\n",
       "  </thead>\n",
       "  <tbody>\n",
       "    <tr>\n",
       "      <th>56</th>\n",
       "      <td>60202</td>\n",
       "      <td>People Pack - Outdoor Adventures</td>\n",
       "      <td>City</td>\n",
       "      <td>164</td>\n",
       "      <td>39.99</td>\n",
       "      <td>69.99</td>\n",
       "      <td>2018</td>\n",
       "      <td>Ages_5-12</td>\n",
       "      <td>64</td>\n",
       "      <td>15.0</td>\n",
       "      <td>Box</td>\n",
       "      <td>0.29Kg (0.64 lb)</td>\n",
       "      <td>128</td>\n",
       "      <td>Small</td>\n",
       "      <td>30.0</td>\n",
       "    </tr>\n",
       "  </tbody>\n",
       "</table>\n",
       "</div>"
      ],
      "text/plain": [
       "    item_number                          set_name theme  pieces  price  \\\n",
       "56        60202  People Pack - Outdoor Adventures  City     164  39.99   \n",
       "\n",
       "    amazon_price  year       ages  pages  minifigures packaging  \\\n",
       "56         69.99  2018  Ages_5-12     64         15.0       Box   \n",
       "\n",
       "              weight  unique_pieces   size  price_difference  \n",
       "56  0.29Kg (0.64 lb)            128  Small              30.0  "
      ]
     },
     "metadata": {},
     "output_type": "display_data"
    },
    {
     "data": {
      "text/html": [
       "<div>\n",
       "<style scoped>\n",
       "    .dataframe tbody tr th:only-of-type {\n",
       "        vertical-align: middle;\n",
       "    }\n",
       "\n",
       "    .dataframe tbody tr th {\n",
       "        vertical-align: top;\n",
       "    }\n",
       "\n",
       "    .dataframe thead th {\n",
       "        text-align: right;\n",
       "    }\n",
       "</style>\n",
       "<table border=\"1\" class=\"dataframe\">\n",
       "  <thead>\n",
       "    <tr style=\"text-align: right;\">\n",
       "      <th></th>\n",
       "      <th>item_number</th>\n",
       "      <th>set_name</th>\n",
       "      <th>theme</th>\n",
       "      <th>pieces</th>\n",
       "      <th>price</th>\n",
       "      <th>amazon_price</th>\n",
       "      <th>year</th>\n",
       "      <th>ages</th>\n",
       "      <th>pages</th>\n",
       "      <th>minifigures</th>\n",
       "      <th>packaging</th>\n",
       "      <th>weight</th>\n",
       "      <th>unique_pieces</th>\n",
       "      <th>size</th>\n",
       "      <th>price_difference</th>\n",
       "    </tr>\n",
       "  </thead>\n",
       "  <tbody>\n",
       "    <tr>\n",
       "      <th>0</th>\n",
       "      <td>10859</td>\n",
       "      <td>My First Ladybird</td>\n",
       "      <td>DUPLO®</td>\n",
       "      <td>6</td>\n",
       "      <td>4.99</td>\n",
       "      <td>16.00</td>\n",
       "      <td>2018</td>\n",
       "      <td>Ages_1½-3</td>\n",
       "      <td>9</td>\n",
       "      <td>NaN</td>\n",
       "      <td>Box</td>\n",
       "      <td>NaN</td>\n",
       "      <td>5</td>\n",
       "      <td>Large</td>\n",
       "      <td>11.01</td>\n",
       "    </tr>\n",
       "    <tr>\n",
       "      <th>1</th>\n",
       "      <td>10860</td>\n",
       "      <td>My First Race Car</td>\n",
       "      <td>DUPLO®</td>\n",
       "      <td>6</td>\n",
       "      <td>4.99</td>\n",
       "      <td>9.45</td>\n",
       "      <td>2018</td>\n",
       "      <td>Ages_1½-3</td>\n",
       "      <td>9</td>\n",
       "      <td>NaN</td>\n",
       "      <td>Box</td>\n",
       "      <td>0.13Kg (0.29 lb)</td>\n",
       "      <td>6</td>\n",
       "      <td>Large</td>\n",
       "      <td>4.46</td>\n",
       "    </tr>\n",
       "    <tr>\n",
       "      <th>2</th>\n",
       "      <td>10862</td>\n",
       "      <td>My First Celebration</td>\n",
       "      <td>DUPLO®</td>\n",
       "      <td>41</td>\n",
       "      <td>14.99</td>\n",
       "      <td>39.89</td>\n",
       "      <td>2018</td>\n",
       "      <td>Ages_1½-3</td>\n",
       "      <td>9</td>\n",
       "      <td>NaN</td>\n",
       "      <td>Box</td>\n",
       "      <td>NaN</td>\n",
       "      <td>18</td>\n",
       "      <td>Large</td>\n",
       "      <td>24.90</td>\n",
       "    </tr>\n",
       "    <tr>\n",
       "      <th>5</th>\n",
       "      <td>10870</td>\n",
       "      <td>Farm Animals</td>\n",
       "      <td>DUPLO®</td>\n",
       "      <td>16</td>\n",
       "      <td>9.99</td>\n",
       "      <td>9.99</td>\n",
       "      <td>2018</td>\n",
       "      <td>Ages_2-5</td>\n",
       "      <td>8</td>\n",
       "      <td>NaN</td>\n",
       "      <td>Box</td>\n",
       "      <td>NaN</td>\n",
       "      <td>13</td>\n",
       "      <td>Large</td>\n",
       "      <td>0.00</td>\n",
       "    </tr>\n",
       "    <tr>\n",
       "      <th>10</th>\n",
       "      <td>10882</td>\n",
       "      <td>Train Tracks</td>\n",
       "      <td>DUPLO®</td>\n",
       "      <td>23</td>\n",
       "      <td>19.99</td>\n",
       "      <td>17.99</td>\n",
       "      <td>2018</td>\n",
       "      <td>Ages_2-5</td>\n",
       "      <td>16</td>\n",
       "      <td>NaN</td>\n",
       "      <td>Box</td>\n",
       "      <td>0.66Kg (1.45 lb)</td>\n",
       "      <td>9</td>\n",
       "      <td>Large</td>\n",
       "      <td>-2.00</td>\n",
       "    </tr>\n",
       "    <tr>\n",
       "      <th>11</th>\n",
       "      <td>10885</td>\n",
       "      <td>My First Fun Puzzle</td>\n",
       "      <td>DUPLO®</td>\n",
       "      <td>15</td>\n",
       "      <td>19.99</td>\n",
       "      <td>19.55</td>\n",
       "      <td>2019</td>\n",
       "      <td>Ages_1½+</td>\n",
       "      <td>9</td>\n",
       "      <td>NaN</td>\n",
       "      <td>NaN</td>\n",
       "      <td>NaN</td>\n",
       "      <td>15</td>\n",
       "      <td>Large</td>\n",
       "      <td>-0.44</td>\n",
       "    </tr>\n",
       "    <tr>\n",
       "      <th>12</th>\n",
       "      <td>10886</td>\n",
       "      <td>My First Car Creations</td>\n",
       "      <td>DUPLO®</td>\n",
       "      <td>34</td>\n",
       "      <td>19.99</td>\n",
       "      <td>16.00</td>\n",
       "      <td>2019</td>\n",
       "      <td>Ages_1½+</td>\n",
       "      <td>10</td>\n",
       "      <td>NaN</td>\n",
       "      <td>NaN</td>\n",
       "      <td>0.64Kg (1.41 lb)</td>\n",
       "      <td>31</td>\n",
       "      <td>Large</td>\n",
       "      <td>-3.99</td>\n",
       "    </tr>\n",
       "    <tr>\n",
       "      <th>14</th>\n",
       "      <td>10904</td>\n",
       "      <td>Baby Animals</td>\n",
       "      <td>DUPLO®</td>\n",
       "      <td>9</td>\n",
       "      <td>9.99</td>\n",
       "      <td>21.11</td>\n",
       "      <td>2019</td>\n",
       "      <td>Ages_2+</td>\n",
       "      <td>8</td>\n",
       "      <td>NaN</td>\n",
       "      <td>Box</td>\n",
       "      <td>NaN</td>\n",
       "      <td>9</td>\n",
       "      <td>Large</td>\n",
       "      <td>11.12</td>\n",
       "    </tr>\n",
       "    <tr>\n",
       "      <th>19</th>\n",
       "      <td>10918</td>\n",
       "      <td>Tow Truck</td>\n",
       "      <td>DUPLO®</td>\n",
       "      <td>7</td>\n",
       "      <td>6.99</td>\n",
       "      <td>6.29</td>\n",
       "      <td>2020</td>\n",
       "      <td>Ages_1½+</td>\n",
       "      <td>3</td>\n",
       "      <td>NaN</td>\n",
       "      <td>Box with backing card</td>\n",
       "      <td>NaN</td>\n",
       "      <td>7</td>\n",
       "      <td>Large</td>\n",
       "      <td>-0.70</td>\n",
       "    </tr>\n",
       "    <tr>\n",
       "      <th>29</th>\n",
       "      <td>41353</td>\n",
       "      <td>Friends Advent Calendar</td>\n",
       "      <td>Friends</td>\n",
       "      <td>500</td>\n",
       "      <td>29.99</td>\n",
       "      <td>34.00</td>\n",
       "      <td>2018</td>\n",
       "      <td>Ages_6-12</td>\n",
       "      <td>4</td>\n",
       "      <td>NaN</td>\n",
       "      <td>Box</td>\n",
       "      <td>NaN</td>\n",
       "      <td>202</td>\n",
       "      <td>Small</td>\n",
       "      <td>4.01</td>\n",
       "    </tr>\n",
       "  </tbody>\n",
       "</table>\n",
       "</div>"
      ],
      "text/plain": [
       "    item_number                 set_name    theme  pieces  price  \\\n",
       "0         10859        My First Ladybird   DUPLO®       6   4.99   \n",
       "1         10860        My First Race Car   DUPLO®       6   4.99   \n",
       "2         10862     My First Celebration   DUPLO®      41  14.99   \n",
       "5         10870             Farm Animals   DUPLO®      16   9.99   \n",
       "10        10882             Train Tracks   DUPLO®      23  19.99   \n",
       "11        10885      My First Fun Puzzle   DUPLO®      15  19.99   \n",
       "12        10886   My First Car Creations   DUPLO®      34  19.99   \n",
       "14        10904             Baby Animals   DUPLO®       9   9.99   \n",
       "19        10918                Tow Truck   DUPLO®       7   6.99   \n",
       "29        41353  Friends Advent Calendar  Friends     500  29.99   \n",
       "\n",
       "    amazon_price  year       ages  pages  minifigures              packaging  \\\n",
       "0          16.00  2018  Ages_1½-3      9          NaN                    Box   \n",
       "1           9.45  2018  Ages_1½-3      9          NaN                    Box   \n",
       "2          39.89  2018  Ages_1½-3      9          NaN                    Box   \n",
       "5           9.99  2018   Ages_2-5      8          NaN                    Box   \n",
       "10         17.99  2018   Ages_2-5     16          NaN                    Box   \n",
       "11         19.55  2019   Ages_1½+      9          NaN                    NaN   \n",
       "12         16.00  2019   Ages_1½+     10          NaN                    NaN   \n",
       "14         21.11  2019    Ages_2+      8          NaN                    Box   \n",
       "19          6.29  2020   Ages_1½+      3          NaN  Box with backing card   \n",
       "29         34.00  2018  Ages_6-12      4          NaN                    Box   \n",
       "\n",
       "              weight  unique_pieces   size  price_difference  \n",
       "0                NaN              5  Large             11.01  \n",
       "1   0.13Kg (0.29 lb)              6  Large              4.46  \n",
       "2                NaN             18  Large             24.90  \n",
       "5                NaN             13  Large              0.00  \n",
       "10  0.66Kg (1.45 lb)              9  Large             -2.00  \n",
       "11               NaN             15  Large             -0.44  \n",
       "12  0.64Kg (1.41 lb)             31  Large             -3.99  \n",
       "14               NaN              9  Large             11.12  \n",
       "19               NaN              7  Large             -0.70  \n",
       "29               NaN            202  Small              4.01  "
      ]
     },
     "metadata": {},
     "output_type": "display_data"
    }
   ],
   "source": [
    "#Problem 6 (c)\n",
    "max_minifigs = DF['minifigures'].max() #Creating a new DF that will show me the max amount of minifigures in a set. 15.\n",
    "set_with_most_minifigs = DF[DF['minifigures'] == max_minifigs] #Using the previous DF to now figure out what set equals the number (15) of the max amount of minifigures I found in the code above.\n",
    "display(set_with_most_minifigs) #Displaying the column\n",
    "\n",
    "zero_or_missing_minifigs = DF[(DF['minifigures'] == 0) | (DF['minifigures'].isna())] #This finds all sets that have zero or missing minifigures.\n",
    "count_zero_missing = zero_or_missing_minifigs.shape[0] #This creates the column, and fills it with sets that have zero or an unknown number of minifigures.\n",
    "display(zero_or_missing_minifigs) #This displays the column."
   ]
  },
  {
   "cell_type": "markdown",
   "id": "e9dba084-6c37-45a2-b9dd-d0a3b74804fc",
   "metadata": {},
   "source": [
    "## Problem 7\n",
    "##### Do an analysis that answers the question below. (free form)\n",
    "##### I want to buy some Legos for my 6 year old cousin, which Lego set is the best deal?\n",
    "###### Answer:\n",
    "##### First you will have to describe in words what makes a good deal. Is is price per piece, price per minifig, price per number of unique pieces, price per page, is it some combination of these things? Should you use Retail or Amazon Price?\n",
    "###### Answer: I think a good deal would be the lowest price per piece in the set.\n",
    "##### Then you will have to decide what age ranges are appropriate and select just that data.\n",
    "###### Answer: Ages 6 years and less would be the most appropriate.\n",
    "##### Then you will need to do a calculation and add that column to your data frame.\n",
    "###### Answer:\n",
    "##### Finally sort your deal column to find the best purchase.\n",
    "###### Answer"
   ]
  },
  {
   "cell_type": "code",
   "execution_count": 60,
   "id": "b2a7f3d7-6140-4963-9df8-d3420f921e52",
   "metadata": {},
   "outputs": [
    {
     "ename": "TypeError",
     "evalue": "'<=' not supported between instances of 'str' and 'int'",
     "output_type": "error",
     "traceback": [
      "\u001b[0;31m---------------------------------------------------------------------------\u001b[0m",
      "\u001b[0;31mTypeError\u001b[0m                                 Traceback (most recent call last)",
      "Cell \u001b[0;32mIn[60], line 2\u001b[0m\n\u001b[1;32m      1\u001b[0m DF[\u001b[38;5;124m'\u001b[39m\u001b[38;5;124mprice_per_piece\u001b[39m\u001b[38;5;124m'\u001b[39m] \u001b[38;5;241m=\u001b[39m DF[\u001b[38;5;124m'\u001b[39m\u001b[38;5;124mprice\u001b[39m\u001b[38;5;124m'\u001b[39m] \u001b[38;5;241m/\u001b[39m DF[\u001b[38;5;124m'\u001b[39m\u001b[38;5;124mpieces\u001b[39m\u001b[38;5;124m'\u001b[39m] \u001b[38;5;66;03m#Creates a new column in the DataFrame called price_per_piece, then I divided the retail price by the number of pieces to try to calculate the best deal by finding the lowest number.\u001b[39;00m\n\u001b[0;32m----> 2\u001b[0m mask_for_kids \u001b[38;5;241m=\u001b[39m DF[\u001b[38;5;124m'\u001b[39m\u001b[38;5;124mages\u001b[39m\u001b[38;5;124m'\u001b[39m] \u001b[38;5;241m<\u001b[39m\u001b[38;5;241m=\u001b[39m \u001b[38;5;241m6\u001b[39m \u001b[38;5;66;03m#Trying to create a mask that only shows me sets for ages equal to or less than 6 years old, but the \"equal to or less than\" command is not working.\u001b[39;00m\n\u001b[1;32m      3\u001b[0m kid_sets \u001b[38;5;241m=\u001b[39m DF[mask_for_kids]\u001b[38;5;241m.\u001b[39mcopy() \u001b[38;5;66;03m#Supposed to create the columns that filter where the data is less than or equal to 6 years old.\u001b[39;00m\n\u001b[1;32m      4\u001b[0m best_deal \u001b[38;5;241m=\u001b[39m kid_sets\u001b[38;5;241m.\u001b[39msort_values(by\u001b[38;5;241m=\u001b[39m\u001b[38;5;124m'\u001b[39m\u001b[38;5;124mprice_per_piece\u001b[39m\u001b[38;5;124m'\u001b[39m, ascending\u001b[38;5;241m=\u001b[39m\u001b[38;5;28;01mTrue\u001b[39;00m) \u001b[38;5;66;03m#Was supposed to sort the filtered data so that the lowest price per piece appears first.\u001b[39;00m\n",
      "File \u001b[0;32m/opt/anaconda3/lib/python3.13/site-packages/pandas/core/ops/common.py:76\u001b[0m, in \u001b[0;36m_unpack_zerodim_and_defer.<locals>.new_method\u001b[0;34m(self, other)\u001b[0m\n\u001b[1;32m     72\u001b[0m             \u001b[38;5;28;01mreturn\u001b[39;00m \u001b[38;5;28mNotImplemented\u001b[39m\n\u001b[1;32m     74\u001b[0m other \u001b[38;5;241m=\u001b[39m item_from_zerodim(other)\n\u001b[0;32m---> 76\u001b[0m \u001b[38;5;28;01mreturn\u001b[39;00m method(\u001b[38;5;28mself\u001b[39m, other)\n",
      "File \u001b[0;32m/opt/anaconda3/lib/python3.13/site-packages/pandas/core/arraylike.py:52\u001b[0m, in \u001b[0;36mOpsMixin.__le__\u001b[0;34m(self, other)\u001b[0m\n\u001b[1;32m     50\u001b[0m \u001b[38;5;129m@unpack_zerodim_and_defer\u001b[39m(\u001b[38;5;124m\"\u001b[39m\u001b[38;5;124m__le__\u001b[39m\u001b[38;5;124m\"\u001b[39m)\n\u001b[1;32m     51\u001b[0m \u001b[38;5;28;01mdef\u001b[39;00m\u001b[38;5;250m \u001b[39m\u001b[38;5;21m__le__\u001b[39m(\u001b[38;5;28mself\u001b[39m, other):\n\u001b[0;32m---> 52\u001b[0m     \u001b[38;5;28;01mreturn\u001b[39;00m \u001b[38;5;28mself\u001b[39m\u001b[38;5;241m.\u001b[39m_cmp_method(other, operator\u001b[38;5;241m.\u001b[39mle)\n",
      "File \u001b[0;32m/opt/anaconda3/lib/python3.13/site-packages/pandas/core/series.py:6130\u001b[0m, in \u001b[0;36mSeries._cmp_method\u001b[0;34m(self, other, op)\u001b[0m\n\u001b[1;32m   6127\u001b[0m lvalues \u001b[38;5;241m=\u001b[39m \u001b[38;5;28mself\u001b[39m\u001b[38;5;241m.\u001b[39m_values\n\u001b[1;32m   6128\u001b[0m rvalues \u001b[38;5;241m=\u001b[39m extract_array(other, extract_numpy\u001b[38;5;241m=\u001b[39m\u001b[38;5;28;01mTrue\u001b[39;00m, extract_range\u001b[38;5;241m=\u001b[39m\u001b[38;5;28;01mTrue\u001b[39;00m)\n\u001b[0;32m-> 6130\u001b[0m res_values \u001b[38;5;241m=\u001b[39m ops\u001b[38;5;241m.\u001b[39mcomparison_op(lvalues, rvalues, op)\n\u001b[1;32m   6132\u001b[0m \u001b[38;5;28;01mreturn\u001b[39;00m \u001b[38;5;28mself\u001b[39m\u001b[38;5;241m.\u001b[39m_construct_result(res_values, name\u001b[38;5;241m=\u001b[39mres_name)\n",
      "File \u001b[0;32m/opt/anaconda3/lib/python3.13/site-packages/pandas/core/ops/array_ops.py:344\u001b[0m, in \u001b[0;36mcomparison_op\u001b[0;34m(left, right, op)\u001b[0m\n\u001b[1;32m    341\u001b[0m     \u001b[38;5;28;01mreturn\u001b[39;00m invalid_comparison(lvalues, rvalues, op)\n\u001b[1;32m    343\u001b[0m \u001b[38;5;28;01melif\u001b[39;00m lvalues\u001b[38;5;241m.\u001b[39mdtype \u001b[38;5;241m==\u001b[39m \u001b[38;5;28mobject\u001b[39m \u001b[38;5;129;01mor\u001b[39;00m \u001b[38;5;28misinstance\u001b[39m(rvalues, \u001b[38;5;28mstr\u001b[39m):\n\u001b[0;32m--> 344\u001b[0m     res_values \u001b[38;5;241m=\u001b[39m comp_method_OBJECT_ARRAY(op, lvalues, rvalues)\n\u001b[1;32m    346\u001b[0m \u001b[38;5;28;01melse\u001b[39;00m:\n\u001b[1;32m    347\u001b[0m     res_values \u001b[38;5;241m=\u001b[39m _na_arithmetic_op(lvalues, rvalues, op, is_cmp\u001b[38;5;241m=\u001b[39m\u001b[38;5;28;01mTrue\u001b[39;00m)\n",
      "File \u001b[0;32m/opt/anaconda3/lib/python3.13/site-packages/pandas/core/ops/array_ops.py:129\u001b[0m, in \u001b[0;36mcomp_method_OBJECT_ARRAY\u001b[0;34m(op, x, y)\u001b[0m\n\u001b[1;32m    127\u001b[0m     result \u001b[38;5;241m=\u001b[39m libops\u001b[38;5;241m.\u001b[39mvec_compare(x\u001b[38;5;241m.\u001b[39mravel(), y\u001b[38;5;241m.\u001b[39mravel(), op)\n\u001b[1;32m    128\u001b[0m \u001b[38;5;28;01melse\u001b[39;00m:\n\u001b[0;32m--> 129\u001b[0m     result \u001b[38;5;241m=\u001b[39m libops\u001b[38;5;241m.\u001b[39mscalar_compare(x\u001b[38;5;241m.\u001b[39mravel(), y, op)\n\u001b[1;32m    130\u001b[0m \u001b[38;5;28;01mreturn\u001b[39;00m result\u001b[38;5;241m.\u001b[39mreshape(x\u001b[38;5;241m.\u001b[39mshape)\n",
      "File \u001b[0;32mpandas/_libs/ops.pyx:107\u001b[0m, in \u001b[0;36mpandas._libs.ops.scalar_compare\u001b[0;34m()\u001b[0m\n",
      "\u001b[0;31mTypeError\u001b[0m: '<=' not supported between instances of 'str' and 'int'"
     ]
    }
   ],
   "source": [
    "DF['price_per_piece'] = DF['price'] / DF['pieces'] #Creates a new column in the DataFrame called price_per_piece, then I divided the retail price by the number of pieces to try to calculate the best deal by finding the lowest number.\n",
    "mask_for_kids = DF['ages'] <= 6 #Trying to create a mask that only shows me sets for ages equal to or less than 6 years old, but the \"equal to or less than\" command is not working.\n",
    "kid_sets = DF[mask_for_kids].copy() #Supposed to create the columns that filter where the data is less than or equal to 6 years old.\n",
    "best_deal = kid_sets.sort_values(by='price_per_piece', ascending=True) #Was supposed to sort the filtered data so that the lowest price per piece appears first.\n",
    "display(best_deal) #Lastly, this was supposed to display the data.\n",
    "# I've given up trying to find the answer"
   ]
  },
  {
   "cell_type": "code",
   "execution_count": null,
   "id": "c1901ca9-dad0-43cc-89d8-c4fb2e8ec46c",
   "metadata": {},
   "outputs": [],
   "source": []
  }
 ],
 "metadata": {
  "kernelspec": {
   "display_name": "Python [conda env:base] *",
   "language": "python",
   "name": "conda-base-py"
  },
  "language_info": {
   "codemirror_mode": {
    "name": "ipython",
    "version": 3
   },
   "file_extension": ".py",
   "mimetype": "text/x-python",
   "name": "python",
   "nbconvert_exporter": "python",
   "pygments_lexer": "ipython3",
   "version": "3.13.5"
  }
 },
 "nbformat": 4,
 "nbformat_minor": 5
}
